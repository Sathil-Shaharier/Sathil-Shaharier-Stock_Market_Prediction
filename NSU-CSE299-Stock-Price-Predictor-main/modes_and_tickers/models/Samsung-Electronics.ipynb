{
  "nbformat": 4,
  "nbformat_minor": 0,
  "metadata": {
    "colab": {
      "name": "Samsung-Electronics.ipynb",
      "provenance": []
    },
    "kernelspec": {
      "name": "python3",
      "display_name": "Python 3"
    },
    "language_info": {
      "name": "python"
    }
  },
  "cells": [
    {
      "cell_type": "code",
      "metadata": {
        "id": "eRp-KACfK60v"
      },
      "source": [
        "import pandas_datareader as pdr\n",
        "key=\"95e463600dac329bb00a1830ae4051fff3d095c7\""
      ],
      "execution_count": null,
      "outputs": []
    },
    {
      "cell_type": "code",
      "metadata": {
        "id": "hrTllIQCLBSM"
      },
      "source": [
        "df = pdr.get_data_tiingo('SSNLF', api_key=key)"
      ],
      "execution_count": null,
      "outputs": []
    },
    {
      "cell_type": "code",
      "metadata": {
        "id": "WSaqZcPVLTTh"
      },
      "source": [
        "df.to_csv('SSNLF.csv')"
      ],
      "execution_count": null,
      "outputs": []
    },
    {
      "cell_type": "code",
      "metadata": {
        "id": "I4cSU5THLn73"
      },
      "source": [
        "import pandas as pd"
      ],
      "execution_count": null,
      "outputs": []
    },
    {
      "cell_type": "code",
      "metadata": {
        "id": "IsStDiB3LtkH"
      },
      "source": [
        "df=pd.read_csv('SSNLF.csv')"
      ],
      "execution_count": null,
      "outputs": []
    },
    {
      "cell_type": "code",
      "metadata": {
        "colab": {
          "base_uri": "https://localhost:8080/",
          "height": 203
        },
        "id": "pLsaw9taLyno",
        "outputId": "cc34774c-fa65-44d1-8df4-5c99f46f3089"
      },
      "source": [
        "df.head()"
      ],
      "execution_count": null,
      "outputs": [
        {
          "output_type": "execute_result",
          "data": {
            "text/html": [
              "<div>\n",
              "<style scoped>\n",
              "    .dataframe tbody tr th:only-of-type {\n",
              "        vertical-align: middle;\n",
              "    }\n",
              "\n",
              "    .dataframe tbody tr th {\n",
              "        vertical-align: top;\n",
              "    }\n",
              "\n",
              "    .dataframe thead th {\n",
              "        text-align: right;\n",
              "    }\n",
              "</style>\n",
              "<table border=\"1\" class=\"dataframe\">\n",
              "  <thead>\n",
              "    <tr style=\"text-align: right;\">\n",
              "      <th></th>\n",
              "      <th>symbol</th>\n",
              "      <th>date</th>\n",
              "      <th>close</th>\n",
              "      <th>high</th>\n",
              "      <th>low</th>\n",
              "      <th>open</th>\n",
              "      <th>volume</th>\n",
              "      <th>adjClose</th>\n",
              "      <th>adjHigh</th>\n",
              "      <th>adjLow</th>\n",
              "      <th>adjOpen</th>\n",
              "      <th>adjVolume</th>\n",
              "      <th>divCash</th>\n",
              "      <th>splitFactor</th>\n",
              "    </tr>\n",
              "  </thead>\n",
              "  <tbody>\n",
              "    <tr>\n",
              "      <th>0</th>\n",
              "      <td>SSNLF</td>\n",
              "      <td>2016-08-29 00:00:00+00:00</td>\n",
              "      <td>1220.0</td>\n",
              "      <td>1220.0</td>\n",
              "      <td>1220.0</td>\n",
              "      <td>1220.0</td>\n",
              "      <td>10</td>\n",
              "      <td>23.534291</td>\n",
              "      <td>23.534291</td>\n",
              "      <td>23.534291</td>\n",
              "      <td>23.534291</td>\n",
              "      <td>500</td>\n",
              "      <td>0.0</td>\n",
              "      <td>1.0</td>\n",
              "    </tr>\n",
              "    <tr>\n",
              "      <th>1</th>\n",
              "      <td>SSNLF</td>\n",
              "      <td>2016-08-30 00:00:00+00:00</td>\n",
              "      <td>1250.0</td>\n",
              "      <td>1250.0</td>\n",
              "      <td>1250.0</td>\n",
              "      <td>1250.0</td>\n",
              "      <td>27</td>\n",
              "      <td>24.113003</td>\n",
              "      <td>24.113003</td>\n",
              "      <td>24.113003</td>\n",
              "      <td>24.113003</td>\n",
              "      <td>1350</td>\n",
              "      <td>0.0</td>\n",
              "      <td>1.0</td>\n",
              "    </tr>\n",
              "    <tr>\n",
              "      <th>2</th>\n",
              "      <td>SSNLF</td>\n",
              "      <td>2016-08-31 00:00:00+00:00</td>\n",
              "      <td>1250.0</td>\n",
              "      <td>1250.0</td>\n",
              "      <td>1250.0</td>\n",
              "      <td>1250.0</td>\n",
              "      <td>0</td>\n",
              "      <td>24.113003</td>\n",
              "      <td>24.113003</td>\n",
              "      <td>24.113003</td>\n",
              "      <td>24.113003</td>\n",
              "      <td>0</td>\n",
              "      <td>0.0</td>\n",
              "      <td>1.0</td>\n",
              "    </tr>\n",
              "    <tr>\n",
              "      <th>3</th>\n",
              "      <td>SSNLF</td>\n",
              "      <td>2016-09-01 00:00:00+00:00</td>\n",
              "      <td>1250.0</td>\n",
              "      <td>1250.0</td>\n",
              "      <td>1250.0</td>\n",
              "      <td>1250.0</td>\n",
              "      <td>15</td>\n",
              "      <td>24.113003</td>\n",
              "      <td>24.113003</td>\n",
              "      <td>24.113003</td>\n",
              "      <td>24.113003</td>\n",
              "      <td>750</td>\n",
              "      <td>0.0</td>\n",
              "      <td>1.0</td>\n",
              "    </tr>\n",
              "    <tr>\n",
              "      <th>4</th>\n",
              "      <td>SSNLF</td>\n",
              "      <td>2016-09-02 00:00:00+00:00</td>\n",
              "      <td>1250.0</td>\n",
              "      <td>1250.0</td>\n",
              "      <td>1250.0</td>\n",
              "      <td>1250.0</td>\n",
              "      <td>30</td>\n",
              "      <td>24.113003</td>\n",
              "      <td>24.113003</td>\n",
              "      <td>24.113003</td>\n",
              "      <td>24.113003</td>\n",
              "      <td>1500</td>\n",
              "      <td>0.0</td>\n",
              "      <td>1.0</td>\n",
              "    </tr>\n",
              "  </tbody>\n",
              "</table>\n",
              "</div>"
            ],
            "text/plain": [
              "  symbol                       date   close  ...  adjVolume  divCash  splitFactor\n",
              "0  SSNLF  2016-08-29 00:00:00+00:00  1220.0  ...        500      0.0          1.0\n",
              "1  SSNLF  2016-08-30 00:00:00+00:00  1250.0  ...       1350      0.0          1.0\n",
              "2  SSNLF  2016-08-31 00:00:00+00:00  1250.0  ...          0      0.0          1.0\n",
              "3  SSNLF  2016-09-01 00:00:00+00:00  1250.0  ...        750      0.0          1.0\n",
              "4  SSNLF  2016-09-02 00:00:00+00:00  1250.0  ...       1500      0.0          1.0\n",
              "\n",
              "[5 rows x 14 columns]"
            ]
          },
          "metadata": {},
          "execution_count": 66
        }
      ]
    },
    {
      "cell_type": "code",
      "metadata": {
        "colab": {
          "base_uri": "https://localhost:8080/",
          "height": 203
        },
        "id": "asJF1ENWL3ZT",
        "outputId": "aa668a4d-ce79-4eee-d398-9babd18959d3"
      },
      "source": [
        "df.tail()"
      ],
      "execution_count": null,
      "outputs": [
        {
          "output_type": "execute_result",
          "data": {
            "text/html": [
              "<div>\n",
              "<style scoped>\n",
              "    .dataframe tbody tr th:only-of-type {\n",
              "        vertical-align: middle;\n",
              "    }\n",
              "\n",
              "    .dataframe tbody tr th {\n",
              "        vertical-align: top;\n",
              "    }\n",
              "\n",
              "    .dataframe thead th {\n",
              "        text-align: right;\n",
              "    }\n",
              "</style>\n",
              "<table border=\"1\" class=\"dataframe\">\n",
              "  <thead>\n",
              "    <tr style=\"text-align: right;\">\n",
              "      <th></th>\n",
              "      <th>symbol</th>\n",
              "      <th>date</th>\n",
              "      <th>close</th>\n",
              "      <th>high</th>\n",
              "      <th>low</th>\n",
              "      <th>open</th>\n",
              "      <th>volume</th>\n",
              "      <th>adjClose</th>\n",
              "      <th>adjHigh</th>\n",
              "      <th>adjLow</th>\n",
              "      <th>adjOpen</th>\n",
              "      <th>adjVolume</th>\n",
              "      <th>divCash</th>\n",
              "      <th>splitFactor</th>\n",
              "    </tr>\n",
              "  </thead>\n",
              "  <tbody>\n",
              "    <tr>\n",
              "      <th>1003</th>\n",
              "      <td>SSNLF</td>\n",
              "      <td>2021-08-23 00:00:00+00:00</td>\n",
              "      <td>44.2</td>\n",
              "      <td>44.2</td>\n",
              "      <td>44.2</td>\n",
              "      <td>44.2</td>\n",
              "      <td>0</td>\n",
              "      <td>44.2</td>\n",
              "      <td>44.2</td>\n",
              "      <td>44.2</td>\n",
              "      <td>44.2</td>\n",
              "      <td>0</td>\n",
              "      <td>0.0</td>\n",
              "      <td>1.0</td>\n",
              "    </tr>\n",
              "    <tr>\n",
              "      <th>1004</th>\n",
              "      <td>SSNLF</td>\n",
              "      <td>2021-08-24 00:00:00+00:00</td>\n",
              "      <td>44.2</td>\n",
              "      <td>44.2</td>\n",
              "      <td>44.2</td>\n",
              "      <td>44.2</td>\n",
              "      <td>0</td>\n",
              "      <td>44.2</td>\n",
              "      <td>44.2</td>\n",
              "      <td>44.2</td>\n",
              "      <td>44.2</td>\n",
              "      <td>0</td>\n",
              "      <td>0.0</td>\n",
              "      <td>1.0</td>\n",
              "    </tr>\n",
              "    <tr>\n",
              "      <th>1005</th>\n",
              "      <td>SSNLF</td>\n",
              "      <td>2021-08-25 00:00:00+00:00</td>\n",
              "      <td>44.2</td>\n",
              "      <td>44.2</td>\n",
              "      <td>44.2</td>\n",
              "      <td>44.2</td>\n",
              "      <td>0</td>\n",
              "      <td>44.2</td>\n",
              "      <td>44.2</td>\n",
              "      <td>44.2</td>\n",
              "      <td>44.2</td>\n",
              "      <td>0</td>\n",
              "      <td>0.0</td>\n",
              "      <td>1.0</td>\n",
              "    </tr>\n",
              "    <tr>\n",
              "      <th>1006</th>\n",
              "      <td>SSNLF</td>\n",
              "      <td>2021-08-26 00:00:00+00:00</td>\n",
              "      <td>44.2</td>\n",
              "      <td>44.2</td>\n",
              "      <td>44.2</td>\n",
              "      <td>44.2</td>\n",
              "      <td>0</td>\n",
              "      <td>44.2</td>\n",
              "      <td>44.2</td>\n",
              "      <td>44.2</td>\n",
              "      <td>44.2</td>\n",
              "      <td>0</td>\n",
              "      <td>0.0</td>\n",
              "      <td>1.0</td>\n",
              "    </tr>\n",
              "    <tr>\n",
              "      <th>1007</th>\n",
              "      <td>SSNLF</td>\n",
              "      <td>2021-08-27 00:00:00+00:00</td>\n",
              "      <td>44.2</td>\n",
              "      <td>44.2</td>\n",
              "      <td>44.2</td>\n",
              "      <td>44.2</td>\n",
              "      <td>0</td>\n",
              "      <td>44.2</td>\n",
              "      <td>44.2</td>\n",
              "      <td>44.2</td>\n",
              "      <td>44.2</td>\n",
              "      <td>0</td>\n",
              "      <td>0.0</td>\n",
              "      <td>1.0</td>\n",
              "    </tr>\n",
              "  </tbody>\n",
              "</table>\n",
              "</div>"
            ],
            "text/plain": [
              "     symbol                       date  close  ...  adjVolume  divCash  splitFactor\n",
              "1003  SSNLF  2021-08-23 00:00:00+00:00   44.2  ...          0      0.0          1.0\n",
              "1004  SSNLF  2021-08-24 00:00:00+00:00   44.2  ...          0      0.0          1.0\n",
              "1005  SSNLF  2021-08-25 00:00:00+00:00   44.2  ...          0      0.0          1.0\n",
              "1006  SSNLF  2021-08-26 00:00:00+00:00   44.2  ...          0      0.0          1.0\n",
              "1007  SSNLF  2021-08-27 00:00:00+00:00   44.2  ...          0      0.0          1.0\n",
              "\n",
              "[5 rows x 14 columns]"
            ]
          },
          "metadata": {},
          "execution_count": 67
        }
      ]
    },
    {
      "cell_type": "code",
      "metadata": {
        "id": "XoJ1wwguL9TV"
      },
      "source": [
        "df1=df.reset_index()['close']"
      ],
      "execution_count": null,
      "outputs": []
    },
    {
      "cell_type": "code",
      "metadata": {
        "colab": {
          "base_uri": "https://localhost:8080/"
        },
        "id": "yhSe1IijMAaf",
        "outputId": "7de70196-8dcd-4825-ca30-3d283c08879d"
      },
      "source": [
        "df1"
      ],
      "execution_count": null,
      "outputs": [
        {
          "output_type": "execute_result",
          "data": {
            "text/plain": [
              "0       1220.0\n",
              "1       1250.0\n",
              "2       1250.0\n",
              "3       1250.0\n",
              "4       1250.0\n",
              "         ...  \n",
              "1003      44.2\n",
              "1004      44.2\n",
              "1005      44.2\n",
              "1006      44.2\n",
              "1007      44.2\n",
              "Name: close, Length: 1008, dtype: float64"
            ]
          },
          "metadata": {},
          "execution_count": 69
        }
      ]
    },
    {
      "cell_type": "code",
      "metadata": {
        "colab": {
          "base_uri": "https://localhost:8080/",
          "height": 282
        },
        "id": "WkHJyAS7MEqo",
        "outputId": "daa1686d-6f7d-454f-c9bd-6c9bea1fc170"
      },
      "source": [
        "import matplotlib.pyplot as plt\n",
        "plt.plot(df1)"
      ],
      "execution_count": null,
      "outputs": [
        {
          "output_type": "execute_result",
          "data": {
            "text/plain": [
              "[<matplotlib.lines.Line2D at 0x7f078ebee7d0>]"
            ]
          },
          "metadata": {},
          "execution_count": 70
        },
        {
          "output_type": "display_data",
          "data": {
            "image/png": "[encoded data removed]",
            "text/plain": [
              "<Figure size 432x288 with 1 Axes>"
            ]
          },
          "metadata": {
            "needs_background": "light"
          }
        }
      ]
    },
    {
      "cell_type": "code",
      "metadata": {
        "id": "Zy6_XfQjMLt4"
      },
      "source": [
        "import numpy as np"
      ],
      "execution_count": null,
      "outputs": []
    },
    {
      "cell_type": "code",
      "metadata": {
        "id": "vD36ua6dMOyy"
      },
      "source": [
        "df1"
      ],
      "execution_count": null,
      "outputs": []
    },
    {
      "cell_type": "code",
      "metadata": {
        "id": "YYBRq0d_MSc_"
      },
      "source": [
        "from sklearn.preprocessing import MinMaxScaler\n",
        "scaler=MinMaxScaler(feature_range=(0,1))\n",
        "df1=scaler.fit_transform(np.array(df1).reshape(-1,1))"
      ],
      "execution_count": null,
      "outputs": []
    },
    {
      "cell_type": "code",
      "metadata": {
        "colab": {
          "base_uri": "https://localhost:8080/"
        },
        "id": "FklKMla8MV0g",
        "outputId": "1df13ff3-9c20-4d72-dfd6-543828783149"
      },
      "source": [
        "print(df1)"
      ],
      "execution_count": null,
      "outputs": [
        {
          "output_type": "stream",
          "text": [
            "[[0.48873556]\n",
            " [0.50120542]\n",
            " [0.50120542]\n",
            " ...\n",
            " [0.        ]\n",
            " [0.        ]\n",
            " [0.        ]]\n"
          ],
          "name": "stdout"
        }
      ]
    },
    {
      "cell_type": "code",
      "metadata": {
        "id": "aTJTi7HtMae5"
      },
      "source": [
        "##splitting dataset into train and test split\n",
        "training_size=int(len(df1)*0.65)\n",
        "test_size=len(df1)-training_size\n",
        "train_data,test_data=df1[0:training_size:],df1[training_size:len(df1),:1]"
      ],
      "execution_count": null,
      "outputs": []
    },
    {
      "cell_type": "code",
      "metadata": {
        "colab": {
          "base_uri": "https://localhost:8080/"
        },
        "id": "3SziRIn5Md_5",
        "outputId": "4d25e11b-7b1e-4367-fbd0-22b82fc5b55a"
      },
      "source": [
        "training_size,test_size"
      ],
      "execution_count": null,
      "outputs": [
        {
          "output_type": "execute_result",
          "data": {
            "text/plain": [
              "(655, 353)"
            ]
          },
          "metadata": {},
          "execution_count": 75
        }
      ]
    },
    {
      "cell_type": "code",
      "metadata": {
        "id": "KP9kUTNLMhWj"
      },
      "source": [
        "train_data"
      ],
      "execution_count": null,
      "outputs": []
    },
    {
      "cell_type": "code",
      "metadata": {
        "id": "YlfwTOovMom2"
      },
      "source": [
        "import numpy\n",
        "#convert an array of values into a dataset matrix\n",
        "def create_dataset(dataset,time_step=1):\n",
        "    dataX,dataY = [],[]\n",
        "    for i in range(len(dataset)-time_step-1):\n",
        "        a=dataset[i:(i+time_step),0]  ###i=0,1,2,3,-------,99\n",
        "        dataX.append(a)\n",
        "        dataY.append(dataset[i+time_step,0])\n",
        "    return numpy.array(dataX),numpy.array(dataY)"
      ],
      "execution_count": null,
      "outputs": []
    },
    {
      "cell_type": "code",
      "metadata": {
        "id": "ohni7WbsMtL6"
      },
      "source": [
        "# reshape into X=t,t+1,t+2,t+3, and Y=t+4\n",
        "time_step = 100 \n",
        "X_train, Y_train = create_dataset(train_data, time_step)\n",
        "X_test,Y_test =  create_dataset(test_data,time_step)"
      ],
      "execution_count": null,
      "outputs": []
    },
    {
      "cell_type": "code",
      "metadata": {
        "colab": {
          "base_uri": "https://localhost:8080/"
        },
        "id": "-XcEqR2nMw1R",
        "outputId": "0b4ea002-672b-482f-9c3f-e13acfa7bc43"
      },
      "source": [
        "print(X_train.shape),print(Y_train.shape)"
      ],
      "execution_count": null,
      "outputs": [
        {
          "output_type": "stream",
          "text": [
            "(554, 100)\n",
            "(554,)\n"
          ],
          "name": "stdout"
        },
        {
          "output_type": "execute_result",
          "data": {
            "text/plain": [
              "(None, None)"
            ]
          },
          "metadata": {},
          "execution_count": 79
        }
      ]
    },
    {
      "cell_type": "code",
      "metadata": {
        "colab": {
          "base_uri": "https://localhost:8080/"
        },
        "id": "i-oqnXzzM0jh",
        "outputId": "44d68c92-d63d-440d-c738-8de07c1d0136"
      },
      "source": [
        "print(X_test.shape),print(Y_test.shape)"
      ],
      "execution_count": null,
      "outputs": [
        {
          "output_type": "stream",
          "text": [
            "(252, 100)\n",
            "(252,)\n"
          ],
          "name": "stdout"
        },
        {
          "output_type": "execute_result",
          "data": {
            "text/plain": [
              "(None, None)"
            ]
          },
          "metadata": {},
          "execution_count": 80
        }
      ]
    },
    {
      "cell_type": "code",
      "metadata": {
        "id": "lo_pPnn-M41M"
      },
      "source": [
        "#reshape input to be [samples, time steps, features] which is required for LSTM\n",
        "X_train=X_train.reshape(X_train.shape[0],X_train.shape[1],1)\n",
        "X_test=X_test.reshape(X_test.shape[0],X_test.shape[1],1)"
      ],
      "execution_count": null,
      "outputs": []
    },
    {
      "cell_type": "code",
      "metadata": {
        "id": "S38fOEqcM71-"
      },
      "source": [
        "### Create the Stacked LSTM Model\n",
        "from tensorflow.keras.models import Sequential\n",
        "from tensorflow.keras.layers import Dense\n",
        "from tensorflow.keras.layers import LSTM"
      ],
      "execution_count": null,
      "outputs": []
    },
    {
      "cell_type": "code",
      "metadata": {
        "id": "s-ErtE6UM_w-"
      },
      "source": [
        "model=Sequential()\n",
        "model.add(LSTM(50,return_sequences=True,input_shape=(100,1)))\n",
        "model.add(LSTM(50,return_sequences=True))\n",
        "model.add(LSTM(50))\n",
        "model.add(Dense(1))\n",
        "model.compile(loss='mean_squared_error',optimizer='adam')"
      ],
      "execution_count": null,
      "outputs": []
    },
    {
      "cell_type": "code",
      "metadata": {
        "colab": {
          "base_uri": "https://localhost:8080/"
        },
        "id": "yTQ45XMrNDck",
        "outputId": "8da8e713-4ab9-4805-b096-09640ee79d7e"
      },
      "source": [
        "model.summary()"
      ],
      "execution_count": null,
      "outputs": [
        {
          "output_type": "stream",
          "text": [
            "Model: \"sequential_1\"\n",
            "_________________________________________________________________\n",
            "Layer (type)                 Output Shape              Param #   \n",
            "=================================================================\n",
            "lstm_3 (LSTM)                (None, 100, 50)           10400     \n",
            "_________________________________________________________________\n",
            "lstm_4 (LSTM)                (None, 100, 50)           20200     \n",
            "_________________________________________________________________\n",
            "lstm_5 (LSTM)                (None, 50)                20200     \n",
            "_________________________________________________________________\n",
            "dense_1 (Dense)              (None, 1)                 51        \n",
            "=================================================================\n",
            "Total params: 50,851\n",
            "Trainable params: 50,851\n",
            "Non-trainable params: 0\n",
            "_________________________________________________________________\n"
          ],
          "name": "stdout"
        }
      ]
    },
    {
      "cell_type": "code",
      "metadata": {
        "colab": {
          "base_uri": "https://localhost:8080/"
        },
        "id": "mO8Q-wMoNIlJ",
        "outputId": "2872d25b-15c5-424e-ebc6-138670ef8ac2"
      },
      "source": [
        "model.fit(X_train,Y_train,validation_data=(X_test,Y_test),epochs=100,batch_size=64,verbose=1)"
      ],
      "execution_count": null,
      "outputs": [
        {
          "output_type": "stream",
          "text": [
            "Epoch 1/100\n",
            "9/9 [==============================] - 8s 337ms/step - loss: 0.2947 - val_loss: 0.0430\n",
            "Epoch 2/100\n",
            "9/9 [==============================] - 2s 196ms/step - loss: 0.0455 - val_loss: 0.0262\n",
            "Epoch 3/100\n",
            "9/9 [==============================] - 2s 196ms/step - loss: 0.0304 - val_loss: 0.0599\n",
            "Epoch 4/100\n",
            "9/9 [==============================] - 2s 199ms/step - loss: 0.0228 - val_loss: 0.0448\n",
            "Epoch 5/100\n",
            "9/9 [==============================] - 2s 194ms/step - loss: 0.0214 - val_loss: 0.0604\n",
            "Epoch 6/100\n",
            "9/9 [==============================] - 2s 199ms/step - loss: 0.0204 - val_loss: 0.0521\n",
            "Epoch 7/100\n",
            "9/9 [==============================] - 2s 200ms/step - loss: 0.0200 - val_loss: 0.0571\n",
            "Epoch 8/100\n",
            "9/9 [==============================] - 2s 197ms/step - loss: 0.0198 - val_loss: 0.0557\n",
            "Epoch 9/100\n",
            "9/9 [==============================] - 2s 198ms/step - loss: 0.0195 - val_loss: 0.0540\n",
            "Epoch 10/100\n",
            "9/9 [==============================] - 2s 201ms/step - loss: 0.0192 - val_loss: 0.0547\n",
            "Epoch 11/100\n",
            "9/9 [==============================] - 2s 197ms/step - loss: 0.0189 - val_loss: 0.0521\n",
            "Epoch 12/100\n",
            "9/9 [==============================] - 2s 200ms/step - loss: 0.0186 - val_loss: 0.0554\n",
            "Epoch 13/100\n",
            "9/9 [==============================] - 2s 198ms/step - loss: 0.0184 - val_loss: 0.0517\n",
            "Epoch 14/100\n",
            "9/9 [==============================] - 2s 197ms/step - loss: 0.0182 - val_loss: 0.0508\n",
            "Epoch 15/100\n",
            "9/9 [==============================] - 2s 205ms/step - loss: 0.0178 - val_loss: 0.0502\n",
            "Epoch 16/100\n",
            "9/9 [==============================] - 2s 205ms/step - loss: 0.0172 - val_loss: 0.0520\n",
            "Epoch 17/100\n",
            "9/9 [==============================] - 2s 204ms/step - loss: 0.0167 - val_loss: 0.0541\n",
            "Epoch 18/100\n",
            "9/9 [==============================] - 2s 197ms/step - loss: 0.0161 - val_loss: 0.0554\n",
            "Epoch 19/100\n",
            "9/9 [==============================] - 2s 202ms/step - loss: 0.0157 - val_loss: 0.0557\n",
            "Epoch 20/100\n",
            "9/9 [==============================] - 2s 200ms/step - loss: 0.0149 - val_loss: 0.0549\n",
            "Epoch 21/100\n",
            "9/9 [==============================] - 2s 200ms/step - loss: 0.0140 - val_loss: 0.0562\n",
            "Epoch 22/100\n",
            "9/9 [==============================] - 2s 200ms/step - loss: 0.0135 - val_loss: 0.0519\n",
            "Epoch 23/100\n",
            "9/9 [==============================] - 2s 200ms/step - loss: 0.0127 - val_loss: 0.0531\n",
            "Epoch 24/100\n",
            "9/9 [==============================] - 2s 200ms/step - loss: 0.0121 - val_loss: 0.0490\n",
            "Epoch 25/100\n",
            "9/9 [==============================] - 2s 199ms/step - loss: 0.0110 - val_loss: 0.0508\n",
            "Epoch 26/100\n",
            "9/9 [==============================] - 2s 197ms/step - loss: 0.0100 - val_loss: 0.0460\n",
            "Epoch 27/100\n",
            "9/9 [==============================] - 2s 196ms/step - loss: 0.0097 - val_loss: 0.0435\n",
            "Epoch 28/100\n",
            "9/9 [==============================] - 2s 199ms/step - loss: 0.0087 - val_loss: 0.0419\n",
            "Epoch 29/100\n",
            "9/9 [==============================] - 2s 198ms/step - loss: 0.0080 - val_loss: 0.0379\n",
            "Epoch 30/100\n",
            "9/9 [==============================] - 2s 196ms/step - loss: 0.0073 - val_loss: 0.0365\n",
            "Epoch 31/100\n",
            "9/9 [==============================] - 2s 198ms/step - loss: 0.0070 - val_loss: 0.0341\n",
            "Epoch 32/100\n",
            "9/9 [==============================] - 2s 202ms/step - loss: 0.0070 - val_loss: 0.0335\n",
            "Epoch 33/100\n",
            "9/9 [==============================] - 2s 200ms/step - loss: 0.0066 - val_loss: 0.0293\n",
            "Epoch 34/100\n",
            "9/9 [==============================] - 2s 195ms/step - loss: 0.0063 - val_loss: 0.0324\n",
            "Epoch 35/100\n",
            "9/9 [==============================] - 2s 202ms/step - loss: 0.0063 - val_loss: 0.0336\n",
            "Epoch 36/100\n",
            "9/9 [==============================] - 2s 199ms/step - loss: 0.0063 - val_loss: 0.0297\n",
            "Epoch 37/100\n",
            "9/9 [==============================] - 2s 198ms/step - loss: 0.0061 - val_loss: 0.0302\n",
            "Epoch 38/100\n",
            "9/9 [==============================] - 2s 196ms/step - loss: 0.0057 - val_loss: 0.0302\n",
            "Epoch 39/100\n",
            "9/9 [==============================] - 2s 199ms/step - loss: 0.0058 - val_loss: 0.0309\n",
            "Epoch 40/100\n",
            "9/9 [==============================] - 2s 200ms/step - loss: 0.0057 - val_loss: 0.0287\n",
            "Epoch 41/100\n",
            "9/9 [==============================] - 2s 198ms/step - loss: 0.0057 - val_loss: 0.0298\n",
            "Epoch 42/100\n",
            "9/9 [==============================] - 2s 199ms/step - loss: 0.0064 - val_loss: 0.0280\n",
            "Epoch 43/100\n",
            "9/9 [==============================] - 2s 199ms/step - loss: 0.0055 - val_loss: 0.0297\n",
            "Epoch 44/100\n",
            "9/9 [==============================] - 2s 200ms/step - loss: 0.0074 - val_loss: 0.0271\n",
            "Epoch 45/100\n",
            "9/9 [==============================] - 2s 199ms/step - loss: 0.0067 - val_loss: 0.0301\n",
            "Epoch 46/100\n",
            "9/9 [==============================] - 2s 198ms/step - loss: 0.0066 - val_loss: 0.0283\n",
            "Epoch 47/100\n",
            "9/9 [==============================] - 2s 198ms/step - loss: 0.0052 - val_loss: 0.0265\n",
            "Epoch 48/100\n",
            "9/9 [==============================] - 2s 198ms/step - loss: 0.0055 - val_loss: 0.0274\n",
            "Epoch 49/100\n",
            "9/9 [==============================] - 2s 200ms/step - loss: 0.0054 - val_loss: 0.0263\n",
            "Epoch 50/100\n",
            "9/9 [==============================] - 2s 200ms/step - loss: 0.0056 - val_loss: 0.0244\n",
            "Epoch 51/100\n",
            "9/9 [==============================] - 2s 200ms/step - loss: 0.0049 - val_loss: 0.0244\n",
            "Epoch 52/100\n",
            "9/9 [==============================] - 2s 200ms/step - loss: 0.0051 - val_loss: 0.0245\n",
            "Epoch 53/100\n",
            "9/9 [==============================] - 2s 202ms/step - loss: 0.0048 - val_loss: 0.0245\n",
            "Epoch 54/100\n",
            "9/9 [==============================] - 2s 203ms/step - loss: 0.0048 - val_loss: 0.0247\n",
            "Epoch 55/100\n",
            "9/9 [==============================] - 2s 202ms/step - loss: 0.0047 - val_loss: 0.0244\n",
            "Epoch 56/100\n",
            "9/9 [==============================] - 2s 197ms/step - loss: 0.0047 - val_loss: 0.0240\n",
            "Epoch 57/100\n",
            "9/9 [==============================] - 2s 200ms/step - loss: 0.0049 - val_loss: 0.0244\n",
            "Epoch 58/100\n",
            "9/9 [==============================] - 2s 201ms/step - loss: 0.0051 - val_loss: 0.0244\n",
            "Epoch 59/100\n",
            "9/9 [==============================] - 2s 202ms/step - loss: 0.0048 - val_loss: 0.0237\n",
            "Epoch 60/100\n",
            "9/9 [==============================] - 2s 201ms/step - loss: 0.0046 - val_loss: 0.0254\n",
            "Epoch 61/100\n",
            "9/9 [==============================] - 2s 202ms/step - loss: 0.0054 - val_loss: 0.0239\n",
            "Epoch 62/100\n",
            "9/9 [==============================] - 2s 201ms/step - loss: 0.0053 - val_loss: 0.0243\n",
            "Epoch 63/100\n",
            "9/9 [==============================] - 2s 199ms/step - loss: 0.0050 - val_loss: 0.0230\n",
            "Epoch 64/100\n",
            "9/9 [==============================] - 2s 208ms/step - loss: 0.0048 - val_loss: 0.0234\n",
            "Epoch 65/100\n",
            "9/9 [==============================] - 2s 200ms/step - loss: 0.0047 - val_loss: 0.0225\n",
            "Epoch 66/100\n",
            "9/9 [==============================] - 2s 196ms/step - loss: 0.0042 - val_loss: 0.0223\n",
            "Epoch 67/100\n",
            "9/9 [==============================] - 2s 205ms/step - loss: 0.0043 - val_loss: 0.0221\n",
            "Epoch 68/100\n",
            "9/9 [==============================] - 2s 199ms/step - loss: 0.0043 - val_loss: 0.0231\n",
            "Epoch 69/100\n",
            "9/9 [==============================] - 2s 201ms/step - loss: 0.0044 - val_loss: 0.0221\n",
            "Epoch 70/100\n",
            "9/9 [==============================] - 2s 202ms/step - loss: 0.0045 - val_loss: 0.0218\n",
            "Epoch 71/100\n",
            "9/9 [==============================] - 2s 198ms/step - loss: 0.0043 - val_loss: 0.0228\n",
            "Epoch 72/100\n",
            "9/9 [==============================] - 2s 200ms/step - loss: 0.0048 - val_loss: 0.0204\n",
            "Epoch 73/100\n",
            "9/9 [==============================] - 2s 206ms/step - loss: 0.0044 - val_loss: 0.0221\n",
            "Epoch 74/100\n",
            "9/9 [==============================] - 2s 197ms/step - loss: 0.0043 - val_loss: 0.0223\n",
            "Epoch 75/100\n",
            "9/9 [==============================] - 2s 200ms/step - loss: 0.0038 - val_loss: 0.0204\n",
            "Epoch 76/100\n",
            "9/9 [==============================] - 2s 204ms/step - loss: 0.0041 - val_loss: 0.0202\n",
            "Epoch 77/100\n",
            "9/9 [==============================] - 2s 198ms/step - loss: 0.0045 - val_loss: 0.0211\n",
            "Epoch 78/100\n",
            "9/9 [==============================] - 2s 198ms/step - loss: 0.0042 - val_loss: 0.0205\n",
            "Epoch 79/100\n",
            "9/9 [==============================] - 2s 203ms/step - loss: 0.0045 - val_loss: 0.0232\n",
            "Epoch 80/100\n",
            "9/9 [==============================] - 2s 206ms/step - loss: 0.0045 - val_loss: 0.0217\n",
            "Epoch 81/100\n",
            "9/9 [==============================] - 2s 200ms/step - loss: 0.0037 - val_loss: 0.0200\n",
            "Epoch 82/100\n",
            "9/9 [==============================] - 2s 197ms/step - loss: 0.0041 - val_loss: 0.0210\n",
            "Epoch 83/100\n",
            "9/9 [==============================] - 2s 199ms/step - loss: 0.0040 - val_loss: 0.0200\n",
            "Epoch 84/100\n",
            "9/9 [==============================] - 2s 202ms/step - loss: 0.0040 - val_loss: 0.0209\n",
            "Epoch 85/100\n",
            "9/9 [==============================] - 2s 200ms/step - loss: 0.0045 - val_loss: 0.0207\n",
            "Epoch 86/100\n",
            "9/9 [==============================] - 2s 202ms/step - loss: 0.0044 - val_loss: 0.0197\n",
            "Epoch 87/100\n",
            "9/9 [==============================] - 2s 201ms/step - loss: 0.0040 - val_loss: 0.0184\n",
            "Epoch 88/100\n",
            "9/9 [==============================] - 2s 202ms/step - loss: 0.0039 - val_loss: 0.0192\n",
            "Epoch 89/100\n",
            "9/9 [==============================] - 2s 202ms/step - loss: 0.0037 - val_loss: 0.0189\n",
            "Epoch 90/100\n",
            "9/9 [==============================] - 2s 200ms/step - loss: 0.0041 - val_loss: 0.0205\n",
            "Epoch 91/100\n",
            "9/9 [==============================] - 2s 202ms/step - loss: 0.0043 - val_loss: 0.0194\n",
            "Epoch 92/100\n",
            "9/9 [==============================] - 2s 203ms/step - loss: 0.0035 - val_loss: 0.0182\n",
            "Epoch 93/100\n",
            "9/9 [==============================] - 2s 208ms/step - loss: 0.0036 - val_loss: 0.0190\n",
            "Epoch 94/100\n",
            "9/9 [==============================] - 2s 204ms/step - loss: 0.0040 - val_loss: 0.0187\n",
            "Epoch 95/100\n",
            "9/9 [==============================] - 2s 201ms/step - loss: 0.0035 - val_loss: 0.0182\n",
            "Epoch 96/100\n",
            "9/9 [==============================] - 2s 204ms/step - loss: 0.0032 - val_loss: 0.0185\n",
            "Epoch 97/100\n",
            "9/9 [==============================] - 2s 197ms/step - loss: 0.0033 - val_loss: 0.0186\n",
            "Epoch 98/100\n",
            "9/9 [==============================] - 2s 199ms/step - loss: 0.0037 - val_loss: 0.0170\n",
            "Epoch 99/100\n",
            "9/9 [==============================] - 2s 202ms/step - loss: 0.0047 - val_loss: 0.0185\n",
            "Epoch 100/100\n",
            "9/9 [==============================] - 2s 199ms/step - loss: 0.0037 - val_loss: 0.0168\n"
          ],
          "name": "stdout"
        },
        {
          "output_type": "execute_result",
          "data": {
            "text/plain": [
              "<keras.callbacks.History at 0x7f078b3d2a50>"
            ]
          },
          "metadata": {},
          "execution_count": 85
        }
      ]
    },
    {
      "cell_type": "code",
      "metadata": {
        "id": "YrR9YT1hOMOE"
      },
      "source": [
        "import tensorflow as tf"
      ],
      "execution_count": null,
      "outputs": []
    },
    {
      "cell_type": "code",
      "metadata": {
        "colab": {
          "base_uri": "https://localhost:8080/",
          "height": 35
        },
        "id": "nx2zhDw_OR6J",
        "outputId": "03c8c531-4d2a-4e29-90ed-b637c5f37766"
      },
      "source": [
        "tf.__version__"
      ],
      "execution_count": null,
      "outputs": [
        {
          "output_type": "execute_result",
          "data": {
            "application/vnd.google.colaboratory.intrinsic+json": {
              "type": "string"
            },
            "text/plain": [
              "'2.6.0'"
            ]
          },
          "metadata": {},
          "execution_count": 87
        }
      ]
    },
    {
      "cell_type": "code",
      "metadata": {
        "id": "DaESJ-FFPmaY"
      },
      "source": [
        "### Prediction and check performence metrices\n",
        "train_predict=model.predict(X_train)\n",
        "test_predict=model.predict(X_test)"
      ],
      "execution_count": null,
      "outputs": []
    },
    {
      "cell_type": "code",
      "metadata": {
        "id": "1AdZjrnXPp8O"
      },
      "source": [
        "###Transformback to original form\n",
        "train_predict=scaler.inverse_transform(train_predict)\n",
        "test_predict=scaler.inverse_transform(test_predict)"
      ],
      "execution_count": null,
      "outputs": []
    },
    {
      "cell_type": "code",
      "metadata": {
        "colab": {
          "base_uri": "https://localhost:8080/"
        },
        "id": "ktotfC6mPuM2",
        "outputId": "8a447692-0381-4b99-ce5d-5db80c26bb72"
      },
      "source": [
        "### Calculate RMSE  performance metrics\n",
        "import math\n",
        "from sklearn.metrics import mean_squared_error\n",
        "math.sqrt(mean_squared_error(Y_train,train_predict))"
      ],
      "execution_count": null,
      "outputs": [
        {
          "output_type": "execute_result",
          "data": {
            "text/plain": [
              "2051.1879693911683"
            ]
          },
          "metadata": {},
          "execution_count": 90
        }
      ]
    },
    {
      "cell_type": "code",
      "metadata": {
        "colab": {
          "base_uri": "https://localhost:8080/"
        },
        "id": "qirVVwzhPx_Y",
        "outputId": "da98b30a-2afa-400e-bca3-dd7dadbe5007"
      },
      "source": [
        "###Test Data RMSE\n",
        "math.sqrt(mean_squared_error(Y_test,test_predict))"
      ],
      "execution_count": null,
      "outputs": [
        {
          "output_type": "execute_result",
          "data": {
            "text/plain": [
              "355.6136746031336"
            ]
          },
          "metadata": {},
          "execution_count": 91
        }
      ]
    },
    {
      "cell_type": "code",
      "metadata": {
        "colab": {
          "base_uri": "https://localhost:8080/",
          "height": 265
        },
        "id": "_VbLQKmuP1cI",
        "outputId": "42a3f758-f716-407a-9d58-c2ed6af3d720"
      },
      "source": [
        "###Plotting\n",
        "# Shift train predictions for plotting\n",
        "look_back=100\n",
        "trainPredictPlot=numpy.empty_like(df1)\n",
        "trainPredictPlot[:, :]=np.nan\n",
        "trainPredictPlot[look_back:len(train_predict)+look_back, :]=train_predict\n",
        "#shift test predictions for plotting\n",
        "testPredictPlot = numpy.empty_like(df1)\n",
        "testPredictPlot[:, :]=numpy.nan\n",
        "testPredictPlot[len(train_predict)+(look_back*2)+1: len(df1)-1, :]=test_predict\n",
        "#plot baseline and predicitons \n",
        "plt.plot(scaler.inverse_transform(df1))\n",
        "plt.plot(trainPredictPlot)\n",
        "plt.plot(testPredictPlot)\n",
        "plt.show()"
      ],
      "execution_count": null,
      "outputs": [
        {
          "output_type": "display_data",
          "data": {
            "image/png": "[encoded data removed]",
            "text/plain": [
              "<Figure size 432x288 with 1 Axes>"
            ]
          },
          "metadata": {
            "needs_background": "light"
          }
        }
      ]
    },
    {
      "cell_type": "code",
      "metadata": {
        "colab": {
          "base_uri": "https://localhost:8080/"
        },
        "id": "vyWiC83WP_vo",
        "outputId": "9ef2f2c9-2fbb-4ee5-b173-c386a991560f"
      },
      "source": [
        "len(test_data)"
      ],
      "execution_count": null,
      "outputs": [
        {
          "output_type": "execute_result",
          "data": {
            "text/plain": [
              "353"
            ]
          },
          "metadata": {},
          "execution_count": 93
        }
      ]
    },
    {
      "cell_type": "code",
      "metadata": {
        "colab": {
          "base_uri": "https://localhost:8080/"
        },
        "id": "nAcrD6ioQDSg",
        "outputId": "207ca4b2-eeda-4da8-853e-8976ecc5a6da"
      },
      "source": [
        "x_input=test_data[341:].reshape(1,-1)\n",
        "x_input.shape"
      ],
      "execution_count": null,
      "outputs": [
        {
          "output_type": "execute_result",
          "data": {
            "text/plain": [
              "(1, 12)"
            ]
          },
          "metadata": {},
          "execution_count": 94
        }
      ]
    },
    {
      "cell_type": "code",
      "metadata": {
        "id": "m4X-tyT2QGG8"
      },
      "source": [
        "temp_input=list(x_input)\n",
        "temp_input=temp_input[0].tolist()"
      ],
      "execution_count": null,
      "outputs": []
    },
    {
      "cell_type": "code",
      "metadata": {
        "colab": {
          "base_uri": "https://localhost:8080/"
        },
        "id": "VpTIn0DgQQ93",
        "outputId": "062ead0c-cb17-4b54-cc8c-e67e44a792d6"
      },
      "source": [
        "temp_input"
      ],
      "execution_count": null,
      "outputs": [
        {
          "output_type": "execute_result",
          "data": {
            "text/plain": [
              "[0.0, 0.0, 0.0, 0.0, 0.0, 0.0, 0.0, 0.0, 0.0, 0.0, 0.0, 0.0]"
            ]
          },
          "metadata": {},
          "execution_count": 96
        }
      ]
    },
    {
      "cell_type": "code",
      "metadata": {
        "id": "4xxFHTPFQahl"
      },
      "source": [
        "### demonstrate prediction for next 10 days\n",
        "from numpy import array\n",
        "lst_output=[]\n",
        "n_steps=12\n",
        "i=0\n",
        "while(i<30):\n",
        "  if(len(temp_input)>12):\n",
        "    #print(temp_input)\n",
        "    x_input=np.array(temp_input[1:])\n",
        "    print(\"{} day input {}\".format(i,x_input))\n",
        "    x_input=x_input.reshape(1,-1)\n",
        "    x_input=x_input.reshape((1,n_steps,1))\n",
        "    ###print(x_input)\n",
        "    yhat=model.predict(x_input, verbose=0)\n",
        "    print(\"{} day output {}\".format(i,yhat))\n",
        "    temp_input.extend(yhat[0].tolist())\n",
        "    temp_input=temp_input[1:]\n",
        "    #print(temp_input)\n",
        "    lst_output.extend(yhat.tolist())\n",
        "    i=i+1\n",
        "  else:\n",
        "      x_input=x_input.reshape((1,n_steps,1))\n",
        "      yhat=model.predict(x_input,verbose=0)\n",
        "      print(yhat[0])\n",
        "      temp_input.extend(yhat[0].tolist())\n",
        "      print(len(temp_input))\n",
        "      lst_output.extend(yhat.tolist())\n",
        "      i=i+1\n",
        "\n",
        "print(lst_output)"
      ],
      "execution_count": null,
      "outputs": []
    },
    {
      "cell_type": "code",
      "metadata": {
        "id": "bypXZvMzULk4"
      },
      "source": [
        "day_new=np.arange(1,101)\n",
        "day_pred=np.arange(101,131)"
      ],
      "execution_count": null,
      "outputs": []
    },
    {
      "cell_type": "code",
      "metadata": {
        "id": "Lv0dkYW_UOu4"
      },
      "source": [
        "import matplotlib.pyplot as plt\n"
      ],
      "execution_count": null,
      "outputs": []
    },
    {
      "cell_type": "code",
      "metadata": {
        "colab": {
          "base_uri": "https://localhost:8080/"
        },
        "id": "bAyBNb0dUR1e",
        "outputId": "17258e19-a5cd-4c4e-d7ec-00f1e9f690a3"
      },
      "source": [
        "len(df1)"
      ],
      "execution_count": null,
      "outputs": [
        {
          "output_type": "execute_result",
          "data": {
            "text/plain": [
              "1008"
            ]
          },
          "metadata": {},
          "execution_count": 108
        }
      ]
    },
    {
      "cell_type": "code",
      "metadata": {
        "colab": {
          "base_uri": "https://localhost:8080/",
          "height": 282
        },
        "id": "-Hw9Lc2rUU0x",
        "outputId": "3cf73ef5-fb1a-45b7-de8b-78b3f3719d6b"
      },
      "source": [
        "plt.plot(day_new,scaler.inverse_transform(df1[908:]))\n",
        "\n",
        "plt.plot(day_pred,scaler.inverse_transform(lst_output))"
      ],
      "execution_count": null,
      "outputs": [
        {
          "output_type": "execute_result",
          "data": {
            "text/plain": [
              "[<matplotlib.lines.Line2D at 0x7f0788e84110>]"
            ]
          },
          "metadata": {},
          "execution_count": 116
        },
        {
          "output_type": "display_data",
          "data": {
            "image/png": "[encoded data removed]",
            "text/plain": [
              "<Figure size 432x288 with 1 Axes>"
            ]
          },
          "metadata": {
            "needs_background": "light"
          }
        }
      ]
    },
    {
      "cell_type": "code",
      "metadata": {
        "colab": {
          "base_uri": "https://localhost:8080/",
          "height": 282
        },
        "id": "HlfuniIAUpVm",
        "outputId": "b8bf73be-4300-46ad-cd9a-759ff06ad283"
      },
      "source": [
        "df2=df1.tolist()\n",
        "df2.extend(lst_output)\n",
        "plt.plot(df2[1000:])"
      ],
      "execution_count": null,
      "outputs": [
        {
          "output_type": "execute_result",
          "data": {
            "text/plain": [
              "[<matplotlib.lines.Line2D at 0x7f0788e04dd0>]"
            ]
          },
          "metadata": {},
          "execution_count": 117
        },
        {
          "output_type": "display_data",
          "data": {
            "image/png": "[encoded data removed]",
            "text/plain": [
              "<Figure size 432x288 with 1 Axes>"
            ]
          },
          "metadata": {
            "needs_background": "light"
          }
        }
      ]
    },
    {
      "cell_type": "code",
      "metadata": {
        "id": "uyFjKNzEUuWo"
      },
      "source": [
        "df2=scaler.inverse_transform(df2).tolist()"
      ],
      "execution_count": null,
      "outputs": []
    },
    {
      "cell_type": "code",
      "metadata": {
        "id": "SoxfCagAUxJf",
        "colab": {
          "base_uri": "https://localhost:8080/",
          "height": 293
        },
        "outputId": "e4013d53-8aa0-42f1-d7dc-22c420824dfb"
      },
      "source": [
        "plt.plot(df2)"
      ],
      "execution_count": null,
      "outputs": [
        {
          "output_type": "execute_result",
          "data": {
            "text/plain": [
              "[<matplotlib.lines.Line2D at 0x7f0788d77cd0>]"
            ]
          },
          "metadata": {},
          "execution_count": 120
        },
        {
          "output_type": "display_data",
          "data": {
            "image/png": "[encoded data removed]",
            "text/plain": [
              "<Figure size 432x288 with 1 Axes>"
            ]
          },
          "metadata": {
            "needs_background": "light"
          }
        }
      ]
    }
  ]
}
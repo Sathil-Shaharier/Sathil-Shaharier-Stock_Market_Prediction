{
  "nbformat": 4,
  "nbformat_minor": 0,
  "metadata": {
    "kernelspec": {
      "display_name": "Python 3",
      "language": "python",
      "name": "python3"
    },
    "language_info": {
      "codemirror_mode": {
        "name": "ipython",
        "version": 3
      },
      "file_extension": ".py",
      "mimetype": "text/x-python",
      "name": "python",
      "nbconvert_exporter": "python",
      "pygments_lexer": "ipython3",
      "version": "3.6.9"
    },
    "colab": {
      "name": "AAPL Stock prediction.ipynb",
      "provenance": [],
      "collapsed_sections": []
    }
  },
  "cells": [
    {
      "cell_type": "markdown",
      "metadata": {
        "id": "KDkvs5ErY33U"
      },
      "source": [
        "### Stock Market Prediction Using The Stacked LSTM"
      ]
    },
    {
      "cell_type": "code",
      "metadata": {
        "id": "cHuaGHOWY33a"
      },
      "source": [
        "### Data Collection\n",
        "import pandas_datareader as pdr\n",
        "key=\"95e463600dac329bb00a1830ae4051fff3d095c7\""
      ],
      "execution_count": 2,
      "outputs": []
    },
    {
      "cell_type": "code",
      "metadata": {
        "id": "j21N0irEY33a"
      },
      "source": [
        "df = pdr.get_data_tiingo('AAPL', api_key= key)"
      ],
      "execution_count": 3,
      "outputs": []
    },
    {
      "cell_type": "code",
      "metadata": {
        "id": "uDmcY8ZuFTKH"
      },
      "source": [
        "df.to_csv('AAPL.csv')"
      ],
      "execution_count": 4,
      "outputs": []
    },
    {
      "cell_type": "code",
      "metadata": {
        "id": "cahBlTcdY33c"
      },
      "source": [
        "import pandas as pd"
      ],
      "execution_count": 5,
      "outputs": []
    },
    {
      "cell_type": "code",
      "metadata": {
        "id": "4wEEUjRMY33c"
      },
      "source": [
        "df=pd.read_csv('AAPL.csv')"
      ],
      "execution_count": 6,
      "outputs": []
    },
    {
      "cell_type": "code",
      "metadata": {
        "colab": {
          "base_uri": "https://localhost:8080/",
          "height": 203
        },
        "id": "sIZwHeTdY33d",
        "outputId": "7c6d308a-9304-450e-af2a-dec7cfb7d5e5"
      },
      "source": [
        "df.head()"
      ],
      "execution_count": 7,
      "outputs": [
        {
          "output_type": "execute_result",
          "data": {
            "text/html": [
              "<div>\n",
              "<style scoped>\n",
              "    .dataframe tbody tr th:only-of-type {\n",
              "        vertical-align: middle;\n",
              "    }\n",
              "\n",
              "    .dataframe tbody tr th {\n",
              "        vertical-align: top;\n",
              "    }\n",
              "\n",
              "    .dataframe thead th {\n",
              "        text-align: right;\n",
              "    }\n",
              "</style>\n",
              "<table border=\"1\" class=\"dataframe\">\n",
              "  <thead>\n",
              "    <tr style=\"text-align: right;\">\n",
              "      <th></th>\n",
              "      <th>symbol</th>\n",
              "      <th>date</th>\n",
              "      <th>close</th>\n",
              "      <th>high</th>\n",
              "      <th>low</th>\n",
              "      <th>open</th>\n",
              "      <th>volume</th>\n",
              "      <th>adjClose</th>\n",
              "      <th>adjHigh</th>\n",
              "      <th>adjLow</th>\n",
              "      <th>adjOpen</th>\n",
              "      <th>adjVolume</th>\n",
              "      <th>divCash</th>\n",
              "      <th>splitFactor</th>\n",
              "    </tr>\n",
              "  </thead>\n",
              "  <tbody>\n",
              "    <tr>\n",
              "      <th>0</th>\n",
              "      <td>AAPL</td>\n",
              "      <td>2016-08-30 00:00:00+00:00</td>\n",
              "      <td>106.00</td>\n",
              "      <td>106.5000</td>\n",
              "      <td>105.50</td>\n",
              "      <td>105.80</td>\n",
              "      <td>24863945</td>\n",
              "      <td>24.848285</td>\n",
              "      <td>24.965494</td>\n",
              "      <td>24.731076</td>\n",
              "      <td>24.801401</td>\n",
              "      <td>99455780</td>\n",
              "      <td>0.0</td>\n",
              "      <td>1.0</td>\n",
              "    </tr>\n",
              "    <tr>\n",
              "      <th>1</th>\n",
              "      <td>AAPL</td>\n",
              "      <td>2016-08-31 00:00:00+00:00</td>\n",
              "      <td>106.10</td>\n",
              "      <td>106.5699</td>\n",
              "      <td>105.64</td>\n",
              "      <td>105.66</td>\n",
              "      <td>29662406</td>\n",
              "      <td>24.871727</td>\n",
              "      <td>24.981880</td>\n",
              "      <td>24.763894</td>\n",
              "      <td>24.768583</td>\n",
              "      <td>118649624</td>\n",
              "      <td>0.0</td>\n",
              "      <td>1.0</td>\n",
              "    </tr>\n",
              "    <tr>\n",
              "      <th>2</th>\n",
              "      <td>AAPL</td>\n",
              "      <td>2016-09-01 00:00:00+00:00</td>\n",
              "      <td>106.73</td>\n",
              "      <td>106.8000</td>\n",
              "      <td>105.62</td>\n",
              "      <td>106.14</td>\n",
              "      <td>26701523</td>\n",
              "      <td>25.019410</td>\n",
              "      <td>25.035819</td>\n",
              "      <td>24.759206</td>\n",
              "      <td>24.881103</td>\n",
              "      <td>106806092</td>\n",
              "      <td>0.0</td>\n",
              "      <td>1.0</td>\n",
              "    </tr>\n",
              "    <tr>\n",
              "      <th>3</th>\n",
              "      <td>AAPL</td>\n",
              "      <td>2016-09-02 00:00:00+00:00</td>\n",
              "      <td>107.73</td>\n",
              "      <td>108.0000</td>\n",
              "      <td>106.82</td>\n",
              "      <td>107.70</td>\n",
              "      <td>26802450</td>\n",
              "      <td>25.253828</td>\n",
              "      <td>25.317120</td>\n",
              "      <td>25.040507</td>\n",
              "      <td>25.246795</td>\n",
              "      <td>107209800</td>\n",
              "      <td>0.0</td>\n",
              "      <td>1.0</td>\n",
              "    </tr>\n",
              "    <tr>\n",
              "      <th>4</th>\n",
              "      <td>AAPL</td>\n",
              "      <td>2016-09-06 00:00:00+00:00</td>\n",
              "      <td>107.70</td>\n",
              "      <td>108.3000</td>\n",
              "      <td>107.51</td>\n",
              "      <td>107.90</td>\n",
              "      <td>26880391</td>\n",
              "      <td>25.246795</td>\n",
              "      <td>25.387446</td>\n",
              "      <td>25.202256</td>\n",
              "      <td>25.293679</td>\n",
              "      <td>107521564</td>\n",
              "      <td>0.0</td>\n",
              "      <td>1.0</td>\n",
              "    </tr>\n",
              "  </tbody>\n",
              "</table>\n",
              "</div>"
            ],
            "text/plain": [
              "  symbol                       date   close  ...  adjVolume  divCash  splitFactor\n",
              "0   AAPL  2016-08-30 00:00:00+00:00  106.00  ...   99455780      0.0          1.0\n",
              "1   AAPL  2016-08-31 00:00:00+00:00  106.10  ...  118649624      0.0          1.0\n",
              "2   AAPL  2016-09-01 00:00:00+00:00  106.73  ...  106806092      0.0          1.0\n",
              "3   AAPL  2016-09-02 00:00:00+00:00  107.73  ...  107209800      0.0          1.0\n",
              "4   AAPL  2016-09-06 00:00:00+00:00  107.70  ...  107521564      0.0          1.0\n",
              "\n",
              "[5 rows x 14 columns]"
            ]
          },
          "metadata": {},
          "execution_count": 7
        }
      ]
    },
    {
      "cell_type": "code",
      "metadata": {
        "id": "lSzBEdBuY33f",
        "colab": {
          "base_uri": "https://localhost:8080/",
          "height": 203
        },
        "outputId": "b642901b-75aa-47cd-aebd-4b00628db831"
      },
      "source": [
        "df.tail()"
      ],
      "execution_count": 8,
      "outputs": [
        {
          "output_type": "execute_result",
          "data": {
            "text/html": [
              "<div>\n",
              "<style scoped>\n",
              "    .dataframe tbody tr th:only-of-type {\n",
              "        vertical-align: middle;\n",
              "    }\n",
              "\n",
              "    .dataframe tbody tr th {\n",
              "        vertical-align: top;\n",
              "    }\n",
              "\n",
              "    .dataframe thead th {\n",
              "        text-align: right;\n",
              "    }\n",
              "</style>\n",
              "<table border=\"1\" class=\"dataframe\">\n",
              "  <thead>\n",
              "    <tr style=\"text-align: right;\">\n",
              "      <th></th>\n",
              "      <th>symbol</th>\n",
              "      <th>date</th>\n",
              "      <th>close</th>\n",
              "      <th>high</th>\n",
              "      <th>low</th>\n",
              "      <th>open</th>\n",
              "      <th>volume</th>\n",
              "      <th>adjClose</th>\n",
              "      <th>adjHigh</th>\n",
              "      <th>adjLow</th>\n",
              "      <th>adjOpen</th>\n",
              "      <th>adjVolume</th>\n",
              "      <th>divCash</th>\n",
              "      <th>splitFactor</th>\n",
              "    </tr>\n",
              "  </thead>\n",
              "  <tbody>\n",
              "    <tr>\n",
              "      <th>1253</th>\n",
              "      <td>AAPL</td>\n",
              "      <td>2021-08-23 00:00:00+00:00</td>\n",
              "      <td>149.71</td>\n",
              "      <td>150.19</td>\n",
              "      <td>147.89</td>\n",
              "      <td>148.31</td>\n",
              "      <td>60131810</td>\n",
              "      <td>149.71</td>\n",
              "      <td>150.19</td>\n",
              "      <td>147.89</td>\n",
              "      <td>148.31</td>\n",
              "      <td>60131810</td>\n",
              "      <td>0.0</td>\n",
              "      <td>1.0</td>\n",
              "    </tr>\n",
              "    <tr>\n",
              "      <th>1254</th>\n",
              "      <td>AAPL</td>\n",
              "      <td>2021-08-24 00:00:00+00:00</td>\n",
              "      <td>149.62</td>\n",
              "      <td>150.86</td>\n",
              "      <td>149.15</td>\n",
              "      <td>149.45</td>\n",
              "      <td>48606428</td>\n",
              "      <td>149.62</td>\n",
              "      <td>150.86</td>\n",
              "      <td>149.15</td>\n",
              "      <td>149.45</td>\n",
              "      <td>48606428</td>\n",
              "      <td>0.0</td>\n",
              "      <td>1.0</td>\n",
              "    </tr>\n",
              "    <tr>\n",
              "      <th>1255</th>\n",
              "      <td>AAPL</td>\n",
              "      <td>2021-08-25 00:00:00+00:00</td>\n",
              "      <td>148.36</td>\n",
              "      <td>150.32</td>\n",
              "      <td>147.80</td>\n",
              "      <td>149.81</td>\n",
              "      <td>58991297</td>\n",
              "      <td>148.36</td>\n",
              "      <td>150.32</td>\n",
              "      <td>147.80</td>\n",
              "      <td>149.81</td>\n",
              "      <td>58991297</td>\n",
              "      <td>0.0</td>\n",
              "      <td>1.0</td>\n",
              "    </tr>\n",
              "    <tr>\n",
              "      <th>1256</th>\n",
              "      <td>AAPL</td>\n",
              "      <td>2021-08-26 00:00:00+00:00</td>\n",
              "      <td>147.54</td>\n",
              "      <td>149.12</td>\n",
              "      <td>147.51</td>\n",
              "      <td>148.35</td>\n",
              "      <td>48597195</td>\n",
              "      <td>147.54</td>\n",
              "      <td>149.12</td>\n",
              "      <td>147.51</td>\n",
              "      <td>148.35</td>\n",
              "      <td>48597195</td>\n",
              "      <td>0.0</td>\n",
              "      <td>1.0</td>\n",
              "    </tr>\n",
              "    <tr>\n",
              "      <th>1257</th>\n",
              "      <td>AAPL</td>\n",
              "      <td>2021-08-27 00:00:00+00:00</td>\n",
              "      <td>148.60</td>\n",
              "      <td>148.75</td>\n",
              "      <td>146.83</td>\n",
              "      <td>147.48</td>\n",
              "      <td>55802388</td>\n",
              "      <td>148.60</td>\n",
              "      <td>148.75</td>\n",
              "      <td>146.83</td>\n",
              "      <td>147.48</td>\n",
              "      <td>55802388</td>\n",
              "      <td>0.0</td>\n",
              "      <td>1.0</td>\n",
              "    </tr>\n",
              "  </tbody>\n",
              "</table>\n",
              "</div>"
            ],
            "text/plain": [
              "     symbol                       date   close  ...  adjVolume  divCash  splitFactor\n",
              "1253   AAPL  2021-08-23 00:00:00+00:00  149.71  ...   60131810      0.0          1.0\n",
              "1254   AAPL  2021-08-24 00:00:00+00:00  149.62  ...   48606428      0.0          1.0\n",
              "1255   AAPL  2021-08-25 00:00:00+00:00  148.36  ...   58991297      0.0          1.0\n",
              "1256   AAPL  2021-08-26 00:00:00+00:00  147.54  ...   48597195      0.0          1.0\n",
              "1257   AAPL  2021-08-27 00:00:00+00:00  148.60  ...   55802388      0.0          1.0\n",
              "\n",
              "[5 rows x 14 columns]"
            ]
          },
          "metadata": {},
          "execution_count": 8
        }
      ]
    },
    {
      "cell_type": "code",
      "metadata": {
        "id": "aEQtiWQuY33g"
      },
      "source": [
        "df1=df.reset_index()['open']"
      ],
      "execution_count": 45,
      "outputs": []
    },
    {
      "cell_type": "code",
      "metadata": {
        "colab": {
          "base_uri": "https://localhost:8080/"
        },
        "id": "VqafJoZ8Y33g",
        "outputId": "8dd9a37c-fa31-4af9-843e-d785b598b1bf"
      },
      "source": [
        "print(df1)"
      ],
      "execution_count": 46,
      "outputs": [
        {
          "output_type": "stream",
          "text": [
            "0       105.80\n",
            "1       105.66\n",
            "2       106.14\n",
            "3       107.70\n",
            "4       107.90\n",
            "         ...  \n",
            "1253    148.31\n",
            "1254    149.45\n",
            "1255    149.81\n",
            "1256    148.35\n",
            "1257    147.48\n",
            "Name: open, Length: 1258, dtype: float64\n"
          ],
          "name": "stdout"
        }
      ]
    },
    {
      "cell_type": "code",
      "metadata": {
        "colab": {
          "base_uri": "https://localhost:8080/"
        },
        "id": "ouhFjX3ve8R4",
        "outputId": "3141b6dc-169c-4c77-b25f-eac196d2ad16"
      },
      "source": [
        "df1.shape"
      ],
      "execution_count": 47,
      "outputs": [
        {
          "output_type": "execute_result",
          "data": {
            "text/plain": [
              "(1258,)"
            ]
          },
          "metadata": {},
          "execution_count": 47
        }
      ]
    },
    {
      "cell_type": "code",
      "metadata": {
        "id": "XTP2Lm-FY33h"
      },
      "source": [
        "import matplotlib.pyplot as plt\n"
      ],
      "execution_count": 48,
      "outputs": []
    },
    {
      "cell_type": "code",
      "metadata": {
        "colab": {
          "base_uri": "https://localhost:8080/",
          "height": 282
        },
        "id": "zwnLYiwUHNm9",
        "outputId": "1d696fc5-a5da-4941-9015-47bd6567aa96"
      },
      "source": [
        "plt.plot(df1)"
      ],
      "execution_count": 49,
      "outputs": [
        {
          "output_type": "execute_result",
          "data": {
            "text/plain": [
              "[<matplotlib.lines.Line2D at 0x7fe5bb625710>]"
            ]
          },
          "metadata": {},
          "execution_count": 49
        },
        {
          "output_type": "display_data",
          "data": {
            "image/png": "[encoded data removed]",
            "text/plain": [
              "<Figure size 432x288 with 1 Axes>"
            ]
          },
          "metadata": {
            "needs_background": "light"
          }
        }
      ]
    },
    {
      "cell_type": "markdown",
      "metadata": {
        "id": "NuHwPovnG7py"
      },
      "source": [
        "LSTM are sensitive to the scale of the data. so we apply MinMax scaler"
      ]
    },
    {
      "cell_type": "code",
      "metadata": {
        "id": "gCEwlfIxY33i"
      },
      "source": [
        "import numpy as np"
      ],
      "execution_count": 50,
      "outputs": []
    },
    {
      "cell_type": "code",
      "metadata": {
        "id": "Yba9uCHPY33i",
        "colab": {
          "base_uri": "https://localhost:8080/"
        },
        "outputId": "f6fb270c-8ecf-48f2-82fc-d3225dd957fb"
      },
      "source": [
        "df1"
      ],
      "execution_count": 51,
      "outputs": [
        {
          "output_type": "execute_result",
          "data": {
            "text/plain": [
              "0       105.80\n",
              "1       105.66\n",
              "2       106.14\n",
              "3       107.70\n",
              "4       107.90\n",
              "         ...  \n",
              "1253    148.31\n",
              "1254    149.45\n",
              "1255    149.81\n",
              "1256    148.35\n",
              "1257    147.48\n",
              "Name: open, Length: 1258, dtype: float64"
            ]
          },
          "metadata": {},
          "execution_count": 51
        }
      ]
    },
    {
      "cell_type": "code",
      "metadata": {
        "id": "fJtXHFLgY33j"
      },
      "source": [
        "from sklearn.preprocessing import MinMaxScaler\n",
        "scaler = MinMaxScaler(feature_range=(0,1))\n",
        "df1 = scaler.fit_transform(np.array(df1).reshape(-1,1))"
      ],
      "execution_count": 52,
      "outputs": []
    },
    {
      "cell_type": "code",
      "metadata": {
        "colab": {
          "base_uri": "https://localhost:8080/"
        },
        "id": "YvXKlHZDY33j",
        "outputId": "c3779b5a-4239-464d-fac6-8770dc059489"
      },
      "source": [
        "print(df1)"
      ],
      "execution_count": 53,
      "outputs": [
        {
          "output_type": "stream",
          "text": [
            "[[0.00764303]\n",
            " [0.00730334]\n",
            " [0.008468  ]\n",
            " ...\n",
            " [0.11442714]\n",
            " [0.11088465]\n",
            " [0.10877372]]\n"
          ],
          "name": "stdout"
        }
      ]
    },
    {
      "cell_type": "markdown",
      "metadata": {
        "id": "8wWrkU7PG4pc"
      },
      "source": [
        "##splitting dataset into train and test split"
      ]
    },
    {
      "cell_type": "code",
      "metadata": {
        "id": "ARHuVkxVY33j"
      },
      "source": [
        "training_size = int(len(df1)*0.65)\n",
        "test_size = len(df1)-training_size\n",
        "train_data,test_data = df1[0:training_size,:],df1[training_size:len(df1),:1]"
      ],
      "execution_count": 54,
      "outputs": []
    },
    {
      "cell_type": "code",
      "metadata": {
        "id": "H1TDtLiCY33j",
        "colab": {
          "base_uri": "https://localhost:8080/"
        },
        "outputId": "b95b46cc-95e4-49d9-c5ad-5741d766d473"
      },
      "source": [
        "training_size,test_size"
      ],
      "execution_count": 55,
      "outputs": [
        {
          "output_type": "execute_result",
          "data": {
            "text/plain": [
              "(817, 441)"
            ]
          },
          "metadata": {},
          "execution_count": 55
        }
      ]
    },
    {
      "cell_type": "code",
      "metadata": {
        "id": "_TVWigZQY33k",
        "colab": {
          "base_uri": "https://localhost:8080/"
        },
        "outputId": "5001a929-3c8d-4c48-8968-3001949888a7"
      },
      "source": [
        "train_data"
      ],
      "execution_count": 56,
      "outputs": [
        {
          "output_type": "execute_result",
          "data": {
            "text/plain": [
              "array([[0.00764303],\n",
              "       [0.00730334],\n",
              "       [0.008468  ],\n",
              "       [0.01225312],\n",
              "       [0.01273839],\n",
              "       [0.01256854],\n",
              "       [0.01116126],\n",
              "       [0.00482846],\n",
              "       [0.        ],\n",
              "       [0.01179211],\n",
              "       [0.01475227],\n",
              "       [0.0271995 ],\n",
              "       [0.03025671],\n",
              "       [0.03042655],\n",
              "       [0.02523414],\n",
              "       [0.02717523],\n",
              "       [0.02838841],\n",
              "       [0.02855826],\n",
              "       [0.02181298],\n",
              "       [0.02511283],\n",
              "       [0.02678701],\n",
              "       [0.02550104],\n",
              "       [0.02380259],\n",
              "       [0.02440918],\n",
              "       [0.02525841],\n",
              "       [0.02608337],\n",
              "       [0.02681128],\n",
              "       [0.02829136],\n",
              "       [0.03001407],\n",
              "       [0.03651672],\n",
              "       [0.03566749],\n",
              "       [0.03430873],\n",
              "       [0.03695346],\n",
              "       [0.03561896],\n",
              "       [0.03768137],\n",
              "       [0.03542486],\n",
              "       [0.03447858],\n",
              "       [0.03435726],\n",
              "       [0.0350609 ],\n",
              "       [0.03712331],\n",
              "       [0.02829136],\n",
              "       [0.03091183],\n",
              "       [0.02722376],\n",
              "       [0.02668996],\n",
              "       [0.02622895],\n",
              "       [0.02123065],\n",
              "       [0.02021158],\n",
              "       [0.014267  ],\n",
              "       [0.01802785],\n",
              "       [0.01858592],\n",
              "       [0.01754258],\n",
              "       [0.02047848],\n",
              "       [0.01036056],\n",
              "       [0.0113311 ],\n",
              "       [0.00951133],\n",
              "       [0.00982676],\n",
              "       [0.01737274],\n",
              "       [0.01715437],\n",
              "       [0.01812491],\n",
              "       [0.02256515],\n",
              "       [0.0211336 ],\n",
              "       [0.02057553],\n",
              "       [0.02130344],\n",
              "       [0.01972631],\n",
              "       [0.02161887],\n",
              "       [0.01871937],\n",
              "       [0.01581987],\n",
              "       [0.01783375],\n",
              "       [0.01662057],\n",
              "       [0.01603824],\n",
              "       [0.01992042],\n",
              "       [0.02343864],\n",
              "       [0.02581647],\n",
              "       [0.02715097],\n",
              "       [0.0300626 ],\n",
              "       [0.03088756],\n",
              "       [0.03353229],\n",
              "       [0.03190663],\n",
              "       [0.03418741],\n",
              "       [0.03433299],\n",
              "       [0.03324113],\n",
              "       [0.0313971 ],\n",
              "       [0.03365361],\n",
              "       [0.03607997],\n",
              "       [0.03348377],\n",
              "       [0.03396904],\n",
              "       [0.03190663],\n",
              "       [0.03202795],\n",
              "       [0.0321978 ],\n",
              "       [0.03428447],\n",
              "       [0.03712331],\n",
              "       [0.03911292],\n",
              "       [0.03904013],\n",
              "       [0.03941622],\n",
              "       [0.03993789],\n",
              "       [0.03806959],\n",
              "       [0.04209735],\n",
              "       [0.04064153],\n",
              "       [0.04318921],\n",
              "       [0.04209735],\n",
              "       [0.04100548],\n",
              "       [0.04311642],\n",
              "       [0.04614937],\n",
              "       [0.04728976],\n",
              "       [0.04435386],\n",
              "       [0.04488766],\n",
              "       [0.05915466],\n",
              "       [0.06144757],\n",
              "       [0.0622604 ],\n",
              "       [0.06425001],\n",
              "       [0.06767118],\n",
              "       [0.06963653],\n",
              "       [0.07036444],\n",
              "       [0.07232979],\n",
              "       [0.07383413],\n",
              "       [0.07478041],\n",
              "       [0.07975445],\n",
              "       [0.08011841],\n",
              "       [0.07873538],\n",
              "       [0.08147717],\n",
              "       [0.08196244],\n",
              "       [0.08426748],\n",
              "       [0.08070073],\n",
              "       [0.08368516],\n",
              "       [0.08353957],\n",
              "       [0.08550493],\n",
              "       [0.09062455],\n",
              "       [0.08766439],\n",
              "       [0.08908381],\n",
              "       [0.08834377],\n",
              "       [0.08807687],\n",
              "       [0.08756733],\n",
              "       [0.08880478],\n",
              "       [0.08783423],\n",
              "       [0.08892609],\n",
              "       [0.08919299],\n",
              "       [0.09237152],\n",
              "       [0.09305091],\n",
              "       [0.09159509],\n",
              "       [0.09574416],\n",
              "       [0.09024846],\n",
              "       [0.09368176],\n",
              "       [0.09426409],\n",
              "       [0.08914447],\n",
              "       [0.09283253],\n",
              "       [0.09955355],\n",
              "       [0.10079099],\n",
              "       [0.0996506 ],\n",
              "       [0.09962634],\n",
              "       [0.09851021],\n",
              "       [0.10086378],\n",
              "       [0.10103363],\n",
              "       [0.09967487],\n",
              "       [0.09935944],\n",
              "       [0.09775804],\n",
              "       [0.09450672],\n",
              "       [0.09525889],\n",
              "       [0.09421556],\n",
              "       [0.09404571],\n",
              "       [0.0951861 ],\n",
              "       [0.0935847 ],\n",
              "       [0.09654486],\n",
              "       [0.0991168 ],\n",
              "       [0.10011161],\n",
              "       [0.10147037],\n",
              "       [0.10014194],\n",
              "       [0.10054836],\n",
              "       [0.10299898],\n",
              "       [0.1089193 ],\n",
              "       [0.1041879 ],\n",
              "       [0.10644441],\n",
              "       [0.10702674],\n",
              "       [0.11253458],\n",
              "       [0.12427816],\n",
              "       [0.12369583],\n",
              "       [0.12083273],\n",
              "       [0.12629204],\n",
              "       [0.12947057],\n",
              "       [0.12930072],\n",
              "       [0.12362304],\n",
              "       [0.11796962],\n",
              "       [0.12308924],\n",
              "       [0.12459358],\n",
              "       [0.12677731],\n",
              "       [0.12420537],\n",
              "       [0.12393847],\n",
              "       [0.12459358],\n",
              "       [0.1231863 ],\n",
              "       [0.12452079],\n",
              "       [0.12257971],\n",
              "       [0.12357451],\n",
              "       [0.12541855],\n",
              "       [0.12435095],\n",
              "       [0.12706847],\n",
              "       [0.12762653],\n",
              "       [0.12748095],\n",
              "       [0.10455185],\n",
              "       [0.10799728],\n",
              "       [0.10882224],\n",
              "       [0.09868006],\n",
              "       [0.09979619],\n",
              "       [0.09950502],\n",
              "       [0.10729364],\n",
              "       [0.10401805],\n",
              "       [0.10462464],\n",
              "       [0.10307177],\n",
              "       [0.10802155],\n",
              "       [0.10278061],\n",
              "       [0.1015189 ],\n",
              "       [0.1020527 ],\n",
              "       [0.10142185],\n",
              "       [0.10246518],\n",
              "       [0.09957781],\n",
              "       [0.09795215],\n",
              "       [0.09766099],\n",
              "       [0.10059688],\n",
              "       [0.10210123],\n",
              "       [0.10486728],\n",
              "       [0.10396952],\n",
              "       [0.10996263],\n",
              "       [0.11202504],\n",
              "       [0.11294706],\n",
              "       [0.1160528 ],\n",
              "       [0.11852768],\n",
              "       [0.11486388],\n",
              "       [0.11629543],\n",
              "       [0.11925559],\n",
              "       [0.12301645],\n",
              "       [0.12398699],\n",
              "       [0.11462125],\n",
              "       [0.11464551],\n",
              "       [0.11270442],\n",
              "       [0.13740477],\n",
              "       [0.13199398],\n",
              "       [0.12961615],\n",
              "       [0.13201825],\n",
              "       [0.13575484],\n",
              "       [0.13735624],\n",
              "       [0.13890911],\n",
              "       [0.13090212],\n",
              "       [0.13750182],\n",
              "       [0.14075314],\n",
              "       [0.14385888],\n",
              "       [0.14041345],\n",
              "       [0.13395933],\n",
              "       [0.13308584],\n",
              "       [0.13485709],\n",
              "       [0.13689523],\n",
              "       [0.14019508],\n",
              "       [0.13830252],\n",
              "       [0.13949143],\n",
              "       [0.13939438],\n",
              "       [0.14837191],\n",
              "       [0.14798369],\n",
              "       [0.15079827],\n",
              "       [0.14825059],\n",
              "       [0.14572718],\n",
              "       [0.14422284],\n",
              "       [0.14123841],\n",
              "       [0.14036492],\n",
              "       [0.14548454],\n",
              "       [0.13883632],\n",
              "       [0.13670112],\n",
              "       [0.13543941],\n",
              "       [0.13941864],\n",
              "       [0.13796283],\n",
              "       [0.13405639],\n",
              "       [0.12896103],\n",
              "       [0.11978939],\n",
              "       [0.11486388],\n",
              "       [0.11920707],\n",
              "       [0.12410831],\n",
              "       [0.12432669],\n",
              "       [0.12267676],\n",
              "       [0.12522444],\n",
              "       [0.12461785],\n",
              "       [0.12369583],\n",
              "       [0.12503033],\n",
              "       [0.12694715],\n",
              "       [0.1289853 ],\n",
              "       [0.12957975],\n",
              "       [0.12937351],\n",
              "       [0.13029553],\n",
              "       [0.13121755],\n",
              "       [0.13405639],\n",
              "       [0.13861795],\n",
              "       [0.14017082],\n",
              "       [0.13126607],\n",
              "       [0.13092638],\n",
              "       [0.13160577],\n",
              "       [0.13014995],\n",
              "       [0.13165429],\n",
              "       [0.13243073],\n",
              "       [0.13742903],\n",
              "       [0.14859028],\n",
              "       [0.15831999],\n",
              "       [0.16309992],\n",
              "       [0.15768913],\n",
              "       [0.17312078],\n",
              "       [0.16915369],\n",
              "       [0.17290241],\n",
              "       [0.17472218],\n",
              "       [0.17581404],\n",
              "       [0.17581404],\n",
              "       [0.1719076 ],\n",
              "       [0.17079148],\n",
              "       [0.16334255],\n",
              "       [0.16627845],\n",
              "       [0.16593876],\n",
              "       [0.16411899],\n",
              "       [0.16530791],\n",
              "       [0.17156791],\n",
              "       [0.17578978],\n",
              "       [0.17566846],\n",
              "       [0.17384869],\n",
              "       [0.16979667],\n",
              "       [0.16445868],\n",
              "       [0.16329403],\n",
              "       [0.16943272],\n",
              "       [0.16113457],\n",
              "       [0.15734944],\n",
              "       [0.16106178],\n",
              "       [0.16460426],\n",
              "       [0.16147426],\n",
              "       [0.16863202],\n",
              "       [0.16948124],\n",
              "       [0.16923861],\n",
              "       [0.17222303],\n",
              "       [0.17525598],\n",
              "       [0.17561993],\n",
              "       [0.17523172],\n",
              "       [0.17353327],\n",
              "       [0.17477071],\n",
              "       [0.16535643],\n",
              "       [0.16365798],\n",
              "       [0.1658417 ],\n",
              "       [0.16467705],\n",
              "       [0.16380356],\n",
              "       [0.16955404],\n",
              "       [0.1695783 ],\n",
              "       [0.17176202],\n",
              "       [0.17397001],\n",
              "       [0.17445528],\n",
              "       [0.17108264],\n",
              "       [0.17455234],\n",
              "       [0.17841025],\n",
              "       [0.18258359],\n",
              "       [0.17833746],\n",
              "       [0.18615034],\n",
              "       [0.1843063 ],\n",
              "       [0.18112777],\n",
              "       [0.18112777],\n",
              "       [0.18100645],\n",
              "       [0.17435823],\n",
              "       [0.16826806],\n",
              "       [0.16380356],\n",
              "       [0.15256952],\n",
              "       [0.15582084],\n",
              "       [0.15654875],\n",
              "       [0.1537099 ],\n",
              "       [0.13696802],\n",
              "       [0.12660746],\n",
              "       [0.1466492 ],\n",
              "       [0.13985539],\n",
              "       [0.13204251],\n",
              "       [0.1355122 ],\n",
              "       [0.14388315],\n",
              "       [0.14652788],\n",
              "       [0.16290581],\n",
              "       [0.16914155],\n",
              "       [0.16838938],\n",
              "       [0.17028194],\n",
              "       [0.16778279],\n",
              "       [0.17232009],\n",
              "       [0.17882273],\n",
              "       [0.18549522],\n",
              "       [0.18588344],\n",
              "       [0.18413646],\n",
              "       [0.17020915],\n",
              "       [0.17605668],\n",
              "       [0.18260785],\n",
              "       [0.17540156],\n",
              "       [0.1767118 ],\n",
              "       [0.18272917],\n",
              "       [0.18838259],\n",
              "       [0.19396322],\n",
              "       [0.18845538],\n",
              "       [0.1840394 ],\n",
              "       [0.18440336],\n",
              "       [0.1811763 ],\n",
              "       [0.17612947],\n",
              "       [0.1756442 ],\n",
              "       [0.16341534],\n",
              "       [0.1595089 ],\n",
              "       [0.15873247],\n",
              "       [0.17234435],\n",
              "       [0.15674285],\n",
              "       [0.15810162],\n",
              "       [0.15526277],\n",
              "       [0.15768913],\n",
              "       [0.15099238],\n",
              "       [0.16967535],\n",
              "       [0.16576891],\n",
              "       [0.16312418],\n",
              "       [0.17069442],\n",
              "       [0.16882613],\n",
              "       [0.17168923],\n",
              "       [0.17501334],\n",
              "       [0.17561993],\n",
              "       [0.17916242],\n",
              "       [0.18236522],\n",
              "       [0.17253846],\n",
              "       [0.16487116],\n",
              "       [0.15572378],\n",
              "       [0.15290921],\n",
              "       [0.14550881],\n",
              "       [0.14914835],\n",
              "       [0.14885718],\n",
              "       [0.14431989],\n",
              "       [0.15470471],\n",
              "       [0.17610521],\n",
              "       [0.17768234],\n",
              "       [0.18343281],\n",
              "       [0.20024749],\n",
              "       [0.19978648],\n",
              "       [0.2035716 ],\n",
              "       [0.20645897],\n",
              "       [0.2107051 ],\n",
              "       [0.20954045],\n",
              "       [0.20412966],\n",
              "       [0.20240695],\n",
              "       [0.20708982],\n",
              "       [0.20512447],\n",
              "       [0.20708982],\n",
              "       [0.20801184],\n",
              "       [0.20308633],\n",
              "       [0.20895812],\n",
              "       [0.20764789],\n",
              "       [0.20611928],\n",
              "       [0.20641044],\n",
              "       [0.20519726],\n",
              "       [0.20706556],\n",
              "       [0.21592177],\n",
              "       [0.21939147],\n",
              "       [0.22075023],\n",
              "       [0.22198767],\n",
              "       [0.21478138],\n",
              "       [0.21521813],\n",
              "       [0.21531518],\n",
              "       [0.21781433],\n",
              "       [0.2157034 ],\n",
              "       [0.21201533],\n",
              "       [0.20679866],\n",
              "       [0.20015043],\n",
              "       [0.20308633],\n",
              "       [0.20527005],\n",
              "       [0.20252827],\n",
              "       [0.19592857],\n",
              "       [0.19493376],\n",
              "       [0.20036881],\n",
              "       [0.19762702],\n",
              "       [0.20294075],\n",
              "       [0.19694764],\n",
              "       [0.20658029],\n",
              "       [0.2004416 ],\n",
              "       [0.20082982],\n",
              "       [0.21072936],\n",
              "       [0.21366526],\n",
              "       [0.208303  ],\n",
              "       [0.21080215],\n",
              "       [0.21456301],\n",
              "       [0.21563061],\n",
              "       [0.21133595],\n",
              "       [0.21626146],\n",
              "       [0.21119037],\n",
              "       [0.21626146],\n",
              "       [0.21359247],\n",
              "       [0.21788713],\n",
              "       [0.21936721],\n",
              "       [0.22312806],\n",
              "       [0.22405008],\n",
              "       [0.21655263],\n",
              "       [0.21267045],\n",
              "       [0.23409521],\n",
              "       [0.23761343],\n",
              "       [0.25326345],\n",
              "       [0.25561702],\n",
              "       [0.25881982],\n",
              "       [0.25088562],\n",
              "       [0.25387004],\n",
              "       [0.25406415],\n",
              "       [0.25488912],\n",
              "       [0.26085796],\n",
              "       [0.25857718],\n",
              "       [0.26471587],\n",
              "       [0.26881642],\n",
              "       [0.28012326],\n",
              "       [0.27696899],\n",
              "       [0.27041782],\n",
              "       [0.27175232],\n",
              "       [0.27648372],\n",
              "       [0.27781822],\n",
              "       [0.28233125],\n",
              "       [0.2850973 ],\n",
              "       [0.29261901],\n",
              "       [0.30052895],\n",
              "       [0.30513903],\n",
              "       [0.30654632],\n",
              "       [0.29984957],\n",
              "       [0.28922211],\n",
              "       [0.28703839],\n",
              "       [0.27990489],\n",
              "       [0.29671956],\n",
              "       [0.29327413],\n",
              "       [0.29868491],\n",
              "       [0.28995002],\n",
              "       [0.27937109],\n",
              "       [0.2810938 ],\n",
              "       [0.28531567],\n",
              "       [0.2866259 ],\n",
              "       [0.27701752],\n",
              "       [0.28412675],\n",
              "       [0.2871597 ],\n",
              "       [0.29400204],\n",
              "       [0.29635561],\n",
              "       [0.3040229 ],\n",
              "       [0.30232445],\n",
              "       [0.30911826],\n",
              "       [0.3108895 ],\n",
              "       [0.30404717],\n",
              "       [0.2900956 ],\n",
              "       [0.29356529],\n",
              "       [0.29798127],\n",
              "       [0.27143689],\n",
              "       [0.28575241],\n",
              "       [0.28754792],\n",
              "       [0.28213714],\n",
              "       [0.29031397],\n",
              "       [0.27954093],\n",
              "       [0.2800262 ],\n",
              "       [0.28422381],\n",
              "       [0.27461542],\n",
              "       [0.29104188],\n",
              "       [0.27917698],\n",
              "       [0.27478527],\n",
              "       [0.28276799],\n",
              "       [0.26326006],\n",
              "       [0.2771631 ],\n",
              "       [0.2824283 ],\n",
              "       [0.25937788],\n",
              "       [0.24663949],\n",
              "       [0.24086475],\n",
              "       [0.25069151],\n",
              "       [0.26042122],\n",
              "       [0.24967244],\n",
              "       [0.23377978],\n",
              "       [0.21589751],\n",
              "       [0.22140535],\n",
              "       [0.2080361 ],\n",
              "       [0.21315572],\n",
              "       [0.21194254],\n",
              "       [0.18372398],\n",
              "       [0.18702383],\n",
              "       [0.17540156],\n",
              "       [0.17370311],\n",
              "       [0.16707915],\n",
              "       [0.17974475],\n",
              "       [0.19413306],\n",
              "       [0.18838259],\n",
              "       [0.19850051],\n",
              "       [0.18998399],\n",
              "       [0.16768574],\n",
              "       [0.17188334],\n",
              "       [0.15128354],\n",
              "       [0.1674431 ],\n",
              "       [0.16438589],\n",
              "       [0.16460426],\n",
              "       [0.16098898],\n",
              "       [0.15237541],\n",
              "       [0.15220556],\n",
              "       [0.1537099 ],\n",
              "       [0.14012229],\n",
              "       [0.13153297],\n",
              "       [0.11039938],\n",
              "       [0.11076333],\n",
              "       [0.12905809],\n",
              "       [0.13308584],\n",
              "       [0.135585  ],\n",
              "       [0.12675305],\n",
              "       [0.10028146],\n",
              "       [0.10161596],\n",
              "       [0.11173388],\n",
              "       [0.11382055],\n",
              "       [0.11801815],\n",
              "       [0.12095404],\n",
              "       [0.12187606],\n",
              "       [0.11695055],\n",
              "       [0.11554326],\n",
              "       [0.12236133],\n",
              "       [0.12507886],\n",
              "       [0.13308584],\n",
              "       [0.13044111],\n",
              "       [0.12495754],\n",
              "       [0.12486048],\n",
              "       [0.1281846 ],\n",
              "       [0.12893677],\n",
              "       [0.13005289],\n",
              "       [0.14703741],\n",
              "       [0.1539768 ],\n",
              "       [0.15603921],\n",
              "       [0.15713107],\n",
              "       [0.17035473],\n",
              "       [0.17469792],\n",
              "       [0.16923861],\n",
              "       [0.16096472],\n",
              "       [0.16596302],\n",
              "       [0.16365798],\n",
              "       [0.16678798],\n",
              "       [0.1627117 ],\n",
              "       [0.16644829],\n",
              "       [0.1627117 ],\n",
              "       [0.16630271],\n",
              "       [0.16778279],\n",
              "       [0.16724899],\n",
              "       [0.173509  ],\n",
              "       [0.17241714],\n",
              "       [0.17120396],\n",
              "       [0.17389722],\n",
              "       [0.17380016],\n",
              "       [0.17722133],\n",
              "       [0.17782792],\n",
              "       [0.17474645],\n",
              "       [0.17280536],\n",
              "       [0.16419178],\n",
              "       [0.17673606],\n",
              "       [0.18767894],\n",
              "       [0.19313825],\n",
              "       [0.19714175],\n",
              "       [0.19944679],\n",
              "       [0.20175183],\n",
              "       [0.20793905],\n",
              "       [0.20279517],\n",
              "       [0.21199107],\n",
              "       [0.22489931],\n",
              "       [0.21560635],\n",
              "       [0.2159703 ],\n",
              "       [0.20890959],\n",
              "       [0.20939487],\n",
              "       [0.21153006],\n",
              "       [0.21592177],\n",
              "       [0.21458728],\n",
              "       [0.21982821],\n",
              "       [0.22356481],\n",
              "       [0.22759257],\n",
              "       [0.22751977],\n",
              "       [0.23698258],\n",
              "       [0.23300335],\n",
              "       [0.23826855],\n",
              "       [0.23426506],\n",
              "       [0.23276071],\n",
              "       [0.23489591],\n",
              "       [0.23509002],\n",
              "       [0.24377639],\n",
              "       [0.24307274],\n",
              "       [0.24695492],\n",
              "       [0.25406415],\n",
              "       [0.25277818],\n",
              "       [0.24809531],\n",
              "       [0.24688213],\n",
              "       [0.24363081],\n",
              "       [0.26017858],\n",
              "       [0.26008153],\n",
              "       [0.2626292 ],\n",
              "       [0.24661523],\n",
              "       [0.25047314],\n",
              "       [0.24081623],\n",
              "       [0.23717669],\n",
              "       [0.22994613],\n",
              "       [0.20638618],\n",
              "       [0.20323191],\n",
              "       [0.20289222],\n",
              "       [0.21172417],\n",
              "       [0.20449362],\n",
              "       [0.19621973],\n",
              "       [0.20034454],\n",
              "       [0.19898578],\n",
              "       [0.18719367],\n",
              "       [0.18816422],\n",
              "       [0.18505848],\n",
              "       [0.17899258],\n",
              "       [0.18270491],\n",
              "       [0.17853157],\n",
              "       [0.17700296],\n",
              "       [0.17661474],\n",
              "       [0.19806376],\n",
              "       [0.19515213],\n",
              "       [0.20347455],\n",
              "       [0.21633426],\n",
              "       [0.22373465],\n",
              "       [0.22152667],\n",
              "       [0.22334644],\n",
              "       [0.2157034 ],\n",
              "       [0.21897899],\n",
              "       [0.22662202],\n",
              "       [0.23542971],\n",
              "       [0.2371039 ],\n",
              "       [0.23329451],\n",
              "       [0.23266366],\n",
              "       [0.23239676],\n",
              "       [0.23079536],\n",
              "       [0.23690979],\n",
              "       [0.23300335],\n",
              "       [0.2438977 ],\n",
              "       [0.23962731],\n",
              "       [0.2441646 ],\n",
              "       [0.24433445],\n",
              "       [0.2381715 ],\n",
              "       [0.23426506],\n",
              "       [0.24069491],\n",
              "       [0.2442374 ],\n",
              "       [0.24215073],\n",
              "       [0.24612996],\n",
              "       [0.24734314],\n",
              "       [0.2460329 ],\n",
              "       [0.24591158],\n",
              "       [0.25025477],\n",
              "       [0.24506236],\n",
              "       [0.25673315],\n",
              "       [0.25481632],\n",
              "       [0.25777648],\n",
              "       [0.25435532],\n",
              "       [0.25673315],\n",
              "       [0.25746106],\n",
              "       [0.27604697],\n",
              "       [0.26993255],\n",
              "       [0.24962391],\n",
              "       [0.23132916],\n",
              "       [0.22725288],\n",
              "       [0.22506915],\n",
              "       [0.23669142],\n",
              "       [0.23936041],\n",
              "       [0.23528413],\n",
              "       [0.23868103],\n",
              "       [0.24387344],\n",
              "       [0.24460135],\n",
              "       [0.24659096],\n",
              "       [0.26197409],\n",
              "       [0.26260494],\n",
              "       [0.26772456],\n",
              "       [0.26820983],\n",
              "       [0.25908672],\n",
              "       [0.25042461],\n",
              "       [0.25527733],\n",
              "       [0.24615422],\n",
              "       [0.2568302 ],\n",
              "       [0.26085796],\n",
              "       [0.25180764],\n",
              "       [0.2565633 ],\n",
              "       [0.26532246],\n",
              "       [0.2702965 ],\n",
              "       [0.27221333],\n",
              "       [0.26983549],\n",
              "       [0.28005047],\n",
              "       [0.29637987],\n",
              "       [0.28473334],\n",
              "       [0.27922551],\n",
              "       [0.28463629],\n",
              "       [0.28730528],\n",
              "       [0.28961033],\n",
              "       [0.28808172],\n",
              "       [0.28218567],\n",
              "       [0.28723249],\n",
              "       [0.28121512],\n",
              "       [0.28473334],\n",
              "       [0.28604358],\n",
              "       [0.28691707],\n",
              "       [0.29703499],\n",
              "       [0.292158  ],\n",
              "       [0.28092396],\n",
              "       [0.29841801],\n",
              "       [0.29994662],\n",
              "       [0.29885476],\n",
              "       [0.30179065],\n",
              "       [0.30397438],\n",
              "       [0.3161547 ],\n",
              "       [0.32088611],\n",
              "       [0.32450138],\n",
              "       [0.31717378],\n",
              "       [0.32134712],\n",
              "       [0.32013394],\n",
              "       [0.32724317],\n",
              "       [0.33607512],\n",
              "       [0.3383559 ],\n",
              "       [0.34420343],\n",
              "       [0.34092784],\n",
              "       [0.35126413],\n",
              "       [0.35502499],\n",
              "       [0.34481002],\n",
              "       [0.35082739],\n",
              "       [0.35640802],\n",
              "       [0.37530936],\n",
              "       [0.37462998],\n",
              "       [0.3739506 ],\n",
              "       [0.37873053],\n",
              "       [0.37860921],\n",
              "       [0.37766293],\n",
              "       [0.3855486 ],\n",
              "       [0.38452953],\n",
              "       [0.39088659],\n",
              "       [0.39071675],\n",
              "       [0.39586063],\n",
              "       [0.40095599],\n",
              "       [0.39522978],\n",
              "       [0.39074101],\n",
              "       [0.38807201],\n",
              "       [0.38836318],\n",
              "       [0.39862668]])"
            ]
          },
          "metadata": {},
          "execution_count": 56
        }
      ]
    },
    {
      "cell_type": "code",
      "metadata": {
        "id": "JCK_Id03Y33k"
      },
      "source": [
        "import numpy\n",
        "# convert an array of values into a dataset matrix\n",
        "def create_dataset(dataset, time_step=1):\n",
        "\tdataX, dataY = [], []\n",
        "\tfor i in range(len(dataset)-time_step-1):\n",
        "\t\ta = dataset[i:(i+time_step), 0]   ###i=0, 0,1,2,3-----99   100 \n",
        "\t\tdataX.append(a)\n",
        "\t\tdataY.append(dataset[i + time_step, 0])\n",
        "\treturn numpy.array(dataX), numpy.array(dataY)"
      ],
      "execution_count": 87,
      "outputs": []
    },
    {
      "cell_type": "code",
      "metadata": {
        "id": "qb5vhnKcY33k"
      },
      "source": [
        "# reshape into X=t,t+1,t+2,t+3 and Y=t+4\n",
        "time_step = 100\n",
        "X_train, y_train = create_dataset(train_data, time_step)\n",
        "X_test, ytest = create_dataset(test_data, time_step)"
      ],
      "execution_count": 58,
      "outputs": []
    },
    {
      "cell_type": "code",
      "metadata": {
        "id": "ahS2uI13Y33l",
        "colab": {
          "base_uri": "https://localhost:8080/"
        },
        "outputId": "a7fb69a1-5388-4a85-d92f-27a9476e0523"
      },
      "source": [
        "print(X_train.shape), print(y_train.shape)"
      ],
      "execution_count": 59,
      "outputs": [
        {
          "output_type": "stream",
          "text": [
            "(716, 100)\n",
            "(716,)\n"
          ],
          "name": "stdout"
        },
        {
          "output_type": "execute_result",
          "data": {
            "text/plain": [
              "(None, None)"
            ]
          },
          "metadata": {},
          "execution_count": 59
        }
      ]
    },
    {
      "cell_type": "code",
      "metadata": {
        "id": "AIJKtH6JY33l",
        "colab": {
          "base_uri": "https://localhost:8080/"
        },
        "outputId": "25e338ab-b7da-4ee0-be9d-257f5a7b27ae"
      },
      "source": [
        "print(X_test.shape), print(ytest.shape)"
      ],
      "execution_count": 60,
      "outputs": [
        {
          "output_type": "stream",
          "text": [
            "(340, 100)\n",
            "(340,)\n"
          ],
          "name": "stdout"
        },
        {
          "output_type": "execute_result",
          "data": {
            "text/plain": [
              "(None, None)"
            ]
          },
          "metadata": {},
          "execution_count": 60
        }
      ]
    },
    {
      "cell_type": "code",
      "metadata": {
        "id": "Zc7dAehZY33l"
      },
      "source": [
        "# reshape input to be [samples, time steps, features] which is required for LSTM\n",
        "X_train =X_train.reshape(X_train.shape[0],X_train.shape[1] , 1)\n",
        "X_test = X_test.reshape(X_test.shape[0],X_test.shape[1] , 1)"
      ],
      "execution_count": 61,
      "outputs": []
    },
    {
      "cell_type": "code",
      "metadata": {
        "id": "d-jWPDhbY33m"
      },
      "source": [
        "### Create the Stacked LSTM model\n",
        "from tensorflow.keras.models import Sequential\n",
        "from tensorflow.keras.layers import Dense\n",
        "from tensorflow.keras.layers import LSTM"
      ],
      "execution_count": 62,
      "outputs": []
    },
    {
      "cell_type": "code",
      "metadata": {
        "id": "dXFR0fWLY33m"
      },
      "source": [
        "model=Sequential()\n",
        "model.add(LSTM(50,return_sequences=True,input_shape=(100,1)))\n",
        "model.add(LSTM(50,return_sequences=True))\n",
        "model.add(LSTM(50))\n",
        "model.add(Dense(1))\n",
        "model.compile(loss='mean_squared_error',optimizer='adam')\n"
      ],
      "execution_count": 63,
      "outputs": []
    },
    {
      "cell_type": "code",
      "metadata": {
        "id": "2goz4X64Y33m",
        "colab": {
          "base_uri": "https://localhost:8080/"
        },
        "outputId": "5373e3d1-adc4-40c8-d7fb-29dfceea52ee"
      },
      "source": [
        "model.summary()"
      ],
      "execution_count": 64,
      "outputs": [
        {
          "output_type": "stream",
          "text": [
            "Model: \"sequential_1\"\n",
            "_________________________________________________________________\n",
            "Layer (type)                 Output Shape              Param #   \n",
            "=================================================================\n",
            "lstm_3 (LSTM)                (None, 100, 50)           10400     \n",
            "_________________________________________________________________\n",
            "lstm_4 (LSTM)                (None, 100, 50)           20200     \n",
            "_________________________________________________________________\n",
            "lstm_5 (LSTM)                (None, 50)                20200     \n",
            "_________________________________________________________________\n",
            "dense_1 (Dense)              (None, 1)                 51        \n",
            "=================================================================\n",
            "Total params: 50,851\n",
            "Trainable params: 50,851\n",
            "Non-trainable params: 0\n",
            "_________________________________________________________________\n"
          ],
          "name": "stdout"
        }
      ]
    },
    {
      "cell_type": "code",
      "metadata": {
        "id": "gBfm5GiHY33m",
        "colab": {
          "base_uri": "https://localhost:8080/"
        },
        "outputId": "fb79b3ff-c2bd-4ac4-dc42-2e821e9db7c7"
      },
      "source": [
        "model.fit(X_train,y_train,validation_data=(X_test,ytest),epochs=100,batch_size=64,verbose=1)"
      ],
      "execution_count": 65,
      "outputs": [
        {
          "output_type": "stream",
          "text": [
            "Epoch 1/100\n",
            "12/12 [==============================] - 6s 212ms/step - loss: 0.0079 - val_loss: 0.0346\n",
            "Epoch 2/100\n",
            "12/12 [==============================] - 2s 136ms/step - loss: 0.0023 - val_loss: 0.0239\n",
            "Epoch 3/100\n",
            "12/12 [==============================] - 2s 136ms/step - loss: 0.0011 - val_loss: 0.0210\n",
            "Epoch 4/100\n",
            "12/12 [==============================] - 2s 134ms/step - loss: 7.5316e-04 - val_loss: 0.0196\n",
            "Epoch 5/100\n",
            "12/12 [==============================] - 2s 137ms/step - loss: 5.2423e-04 - val_loss: 0.0207\n",
            "Epoch 6/100\n",
            "12/12 [==============================] - 2s 135ms/step - loss: 4.8974e-04 - val_loss: 0.0204\n",
            "Epoch 7/100\n",
            "12/12 [==============================] - 2s 136ms/step - loss: 4.5016e-04 - val_loss: 0.0199\n",
            "Epoch 8/100\n",
            "12/12 [==============================] - 2s 136ms/step - loss: 4.4737e-04 - val_loss: 0.0193\n",
            "Epoch 9/100\n",
            "12/12 [==============================] - 2s 138ms/step - loss: 4.2396e-04 - val_loss: 0.0190\n",
            "Epoch 10/100\n",
            "12/12 [==============================] - 2s 137ms/step - loss: 4.1013e-04 - val_loss: 0.0190\n",
            "Epoch 11/100\n",
            "12/12 [==============================] - 2s 137ms/step - loss: 4.3104e-04 - val_loss: 0.0189\n",
            "Epoch 12/100\n",
            "12/12 [==============================] - 2s 134ms/step - loss: 3.9207e-04 - val_loss: 0.0171\n",
            "Epoch 13/100\n",
            "12/12 [==============================] - 2s 139ms/step - loss: 3.6545e-04 - val_loss: 0.0171\n",
            "Epoch 14/100\n",
            "12/12 [==============================] - 2s 137ms/step - loss: 3.4500e-04 - val_loss: 0.0178\n",
            "Epoch 15/100\n",
            "12/12 [==============================] - 2s 138ms/step - loss: 3.2530e-04 - val_loss: 0.0173\n",
            "Epoch 16/100\n",
            "12/12 [==============================] - 2s 133ms/step - loss: 3.2255e-04 - val_loss: 0.0161\n",
            "Epoch 17/100\n",
            "12/12 [==============================] - 2s 138ms/step - loss: 2.9778e-04 - val_loss: 0.0162\n",
            "Epoch 18/100\n",
            "12/12 [==============================] - 2s 136ms/step - loss: 2.9734e-04 - val_loss: 0.0156\n",
            "Epoch 19/100\n",
            "12/12 [==============================] - 2s 136ms/step - loss: 2.9540e-04 - val_loss: 0.0148\n",
            "Epoch 20/100\n",
            "12/12 [==============================] - 2s 135ms/step - loss: 2.6081e-04 - val_loss: 0.0157\n",
            "Epoch 21/100\n",
            "12/12 [==============================] - 2s 136ms/step - loss: 2.8613e-04 - val_loss: 0.0143\n",
            "Epoch 22/100\n",
            "12/12 [==============================] - 2s 133ms/step - loss: 2.4686e-04 - val_loss: 0.0143\n",
            "Epoch 23/100\n",
            "12/12 [==============================] - 2s 133ms/step - loss: 2.6789e-04 - val_loss: 0.0135\n",
            "Epoch 24/100\n",
            "12/12 [==============================] - 2s 134ms/step - loss: 2.5126e-04 - val_loss: 0.0131\n",
            "Epoch 25/100\n",
            "12/12 [==============================] - 2s 137ms/step - loss: 2.3997e-04 - val_loss: 0.0131\n",
            "Epoch 26/100\n",
            "12/12 [==============================] - 2s 134ms/step - loss: 2.3924e-04 - val_loss: 0.0132\n",
            "Epoch 27/100\n",
            "12/12 [==============================] - 2s 135ms/step - loss: 2.3605e-04 - val_loss: 0.0124\n",
            "Epoch 28/100\n",
            "12/12 [==============================] - 2s 136ms/step - loss: 2.3404e-04 - val_loss: 0.0123\n",
            "Epoch 29/100\n",
            "12/12 [==============================] - 2s 135ms/step - loss: 2.4805e-04 - val_loss: 0.0121\n",
            "Epoch 30/100\n",
            "12/12 [==============================] - 2s 136ms/step - loss: 2.2524e-04 - val_loss: 0.0123\n",
            "Epoch 31/100\n",
            "12/12 [==============================] - 2s 137ms/step - loss: 2.2231e-04 - val_loss: 0.0127\n",
            "Epoch 32/100\n",
            "12/12 [==============================] - 2s 138ms/step - loss: 2.1284e-04 - val_loss: 0.0119\n",
            "Epoch 33/100\n",
            "12/12 [==============================] - 2s 136ms/step - loss: 2.1192e-04 - val_loss: 0.0113\n",
            "Epoch 34/100\n",
            "12/12 [==============================] - 2s 139ms/step - loss: 2.6041e-04 - val_loss: 0.0108\n",
            "Epoch 35/100\n",
            "12/12 [==============================] - 2s 136ms/step - loss: 2.2785e-04 - val_loss: 0.0119\n",
            "Epoch 36/100\n",
            "12/12 [==============================] - 2s 136ms/step - loss: 2.1127e-04 - val_loss: 0.0118\n",
            "Epoch 37/100\n",
            "12/12 [==============================] - 2s 135ms/step - loss: 2.1636e-04 - val_loss: 0.0123\n",
            "Epoch 38/100\n",
            "12/12 [==============================] - 2s 136ms/step - loss: 2.7146e-04 - val_loss: 0.0101\n",
            "Epoch 39/100\n",
            "12/12 [==============================] - 2s 137ms/step - loss: 2.6364e-04 - val_loss: 0.0106\n",
            "Epoch 40/100\n",
            "12/12 [==============================] - 2s 136ms/step - loss: 2.1499e-04 - val_loss: 0.0105\n",
            "Epoch 41/100\n",
            "12/12 [==============================] - 2s 136ms/step - loss: 2.1545e-04 - val_loss: 0.0105\n",
            "Epoch 42/100\n",
            "12/12 [==============================] - 2s 139ms/step - loss: 2.1444e-04 - val_loss: 0.0118\n",
            "Epoch 43/100\n",
            "12/12 [==============================] - 2s 138ms/step - loss: 2.5918e-04 - val_loss: 0.0101\n",
            "Epoch 44/100\n",
            "12/12 [==============================] - 2s 141ms/step - loss: 2.1656e-04 - val_loss: 0.0101\n",
            "Epoch 45/100\n",
            "12/12 [==============================] - 2s 136ms/step - loss: 2.0390e-04 - val_loss: 0.0113\n",
            "Epoch 46/100\n",
            "12/12 [==============================] - 2s 136ms/step - loss: 1.9177e-04 - val_loss: 0.0106\n",
            "Epoch 47/100\n",
            "12/12 [==============================] - 2s 137ms/step - loss: 1.9043e-04 - val_loss: 0.0103\n",
            "Epoch 48/100\n",
            "12/12 [==============================] - 2s 137ms/step - loss: 1.8262e-04 - val_loss: 0.0121\n",
            "Epoch 49/100\n",
            "12/12 [==============================] - 2s 136ms/step - loss: 2.1242e-04 - val_loss: 0.0095\n",
            "Epoch 50/100\n",
            "12/12 [==============================] - 2s 133ms/step - loss: 2.0354e-04 - val_loss: 0.0096\n",
            "Epoch 51/100\n",
            "12/12 [==============================] - 2s 138ms/step - loss: 1.9506e-04 - val_loss: 0.0099\n",
            "Epoch 52/100\n",
            "12/12 [==============================] - 2s 139ms/step - loss: 1.8064e-04 - val_loss: 0.0107\n",
            "Epoch 53/100\n",
            "12/12 [==============================] - 2s 136ms/step - loss: 1.8210e-04 - val_loss: 0.0105\n",
            "Epoch 54/100\n",
            "12/12 [==============================] - 2s 138ms/step - loss: 1.9588e-04 - val_loss: 0.0092\n",
            "Epoch 55/100\n",
            "12/12 [==============================] - 2s 135ms/step - loss: 1.8948e-04 - val_loss: 0.0102\n",
            "Epoch 56/100\n",
            "12/12 [==============================] - 2s 136ms/step - loss: 1.6930e-04 - val_loss: 0.0088\n",
            "Epoch 57/100\n",
            "12/12 [==============================] - 2s 139ms/step - loss: 1.7900e-04 - val_loss: 0.0095\n",
            "Epoch 58/100\n",
            "12/12 [==============================] - 2s 136ms/step - loss: 1.8828e-04 - val_loss: 0.0088\n",
            "Epoch 59/100\n",
            "12/12 [==============================] - 2s 136ms/step - loss: 1.6309e-04 - val_loss: 0.0095\n",
            "Epoch 60/100\n",
            "12/12 [==============================] - 2s 138ms/step - loss: 1.7244e-04 - val_loss: 0.0084\n",
            "Epoch 61/100\n",
            "12/12 [==============================] - 2s 135ms/step - loss: 1.7707e-04 - val_loss: 0.0101\n",
            "Epoch 62/100\n",
            "12/12 [==============================] - 2s 136ms/step - loss: 1.8727e-04 - val_loss: 0.0082\n",
            "Epoch 63/100\n",
            "12/12 [==============================] - 2s 138ms/step - loss: 1.7318e-04 - val_loss: 0.0087\n",
            "Epoch 64/100\n",
            "12/12 [==============================] - 2s 136ms/step - loss: 1.6676e-04 - val_loss: 0.0083\n",
            "Epoch 65/100\n",
            "12/12 [==============================] - 2s 137ms/step - loss: 1.5181e-04 - val_loss: 0.0083\n",
            "Epoch 66/100\n",
            "12/12 [==============================] - 2s 138ms/step - loss: 1.5281e-04 - val_loss: 0.0089\n",
            "Epoch 67/100\n",
            "12/12 [==============================] - 2s 136ms/step - loss: 1.4778e-04 - val_loss: 0.0082\n",
            "Epoch 68/100\n",
            "12/12 [==============================] - 2s 135ms/step - loss: 1.4841e-04 - val_loss: 0.0086\n",
            "Epoch 69/100\n",
            "12/12 [==============================] - 2s 136ms/step - loss: 1.6279e-04 - val_loss: 0.0078\n",
            "Epoch 70/100\n",
            "12/12 [==============================] - 2s 133ms/step - loss: 1.6046e-04 - val_loss: 0.0084\n",
            "Epoch 71/100\n",
            "12/12 [==============================] - 2s 139ms/step - loss: 1.5893e-04 - val_loss: 0.0077\n",
            "Epoch 72/100\n",
            "12/12 [==============================] - 2s 136ms/step - loss: 1.4708e-04 - val_loss: 0.0082\n",
            "Epoch 73/100\n",
            "12/12 [==============================] - 2s 138ms/step - loss: 1.5881e-04 - val_loss: 0.0078\n",
            "Epoch 74/100\n",
            "12/12 [==============================] - 2s 136ms/step - loss: 1.4108e-04 - val_loss: 0.0076\n",
            "Epoch 75/100\n",
            "12/12 [==============================] - 2s 137ms/step - loss: 1.4092e-04 - val_loss: 0.0086\n",
            "Epoch 76/100\n",
            "12/12 [==============================] - 2s 137ms/step - loss: 1.7386e-04 - val_loss: 0.0073\n",
            "Epoch 77/100\n",
            "12/12 [==============================] - 2s 136ms/step - loss: 1.5712e-04 - val_loss: 0.0070\n",
            "Epoch 78/100\n",
            "12/12 [==============================] - 2s 137ms/step - loss: 1.7919e-04 - val_loss: 0.0074\n",
            "Epoch 79/100\n",
            "12/12 [==============================] - 2s 137ms/step - loss: 1.5645e-04 - val_loss: 0.0071\n",
            "Epoch 80/100\n",
            "12/12 [==============================] - 2s 137ms/step - loss: 1.3741e-04 - val_loss: 0.0069\n",
            "Epoch 81/100\n",
            "12/12 [==============================] - 2s 138ms/step - loss: 1.3226e-04 - val_loss: 0.0073\n",
            "Epoch 82/100\n",
            "12/12 [==============================] - 2s 138ms/step - loss: 1.3785e-04 - val_loss: 0.0067\n",
            "Epoch 83/100\n",
            "12/12 [==============================] - 2s 135ms/step - loss: 1.3775e-04 - val_loss: 0.0066\n",
            "Epoch 84/100\n",
            "12/12 [==============================] - 2s 138ms/step - loss: 1.2943e-04 - val_loss: 0.0067\n",
            "Epoch 85/100\n",
            "12/12 [==============================] - 2s 137ms/step - loss: 1.3214e-04 - val_loss: 0.0066\n",
            "Epoch 86/100\n",
            "12/12 [==============================] - 2s 137ms/step - loss: 1.1992e-04 - val_loss: 0.0064\n",
            "Epoch 87/100\n",
            "12/12 [==============================] - 2s 135ms/step - loss: 1.2055e-04 - val_loss: 0.0063\n",
            "Epoch 88/100\n",
            "12/12 [==============================] - 2s 137ms/step - loss: 1.2302e-04 - val_loss: 0.0060\n",
            "Epoch 89/100\n",
            "12/12 [==============================] - 2s 136ms/step - loss: 1.2442e-04 - val_loss: 0.0060\n",
            "Epoch 90/100\n",
            "12/12 [==============================] - 2s 136ms/step - loss: 1.1350e-04 - val_loss: 0.0059\n",
            "Epoch 91/100\n",
            "12/12 [==============================] - 2s 136ms/step - loss: 1.2452e-04 - val_loss: 0.0060\n",
            "Epoch 92/100\n",
            "12/12 [==============================] - 2s 138ms/step - loss: 1.4273e-04 - val_loss: 0.0056\n",
            "Epoch 93/100\n",
            "12/12 [==============================] - 2s 140ms/step - loss: 1.2240e-04 - val_loss: 0.0056\n",
            "Epoch 94/100\n",
            "12/12 [==============================] - 2s 139ms/step - loss: 1.4280e-04 - val_loss: 0.0058\n",
            "Epoch 95/100\n",
            "12/12 [==============================] - 2s 136ms/step - loss: 1.2944e-04 - val_loss: 0.0055\n",
            "Epoch 96/100\n",
            "12/12 [==============================] - 2s 138ms/step - loss: 1.2385e-04 - val_loss: 0.0056\n",
            "Epoch 97/100\n",
            "12/12 [==============================] - 2s 139ms/step - loss: 1.2825e-04 - val_loss: 0.0054\n",
            "Epoch 98/100\n",
            "12/12 [==============================] - 2s 138ms/step - loss: 1.1578e-04 - val_loss: 0.0054\n",
            "Epoch 99/100\n",
            "12/12 [==============================] - 2s 138ms/step - loss: 1.2037e-04 - val_loss: 0.0054\n",
            "Epoch 100/100\n",
            "12/12 [==============================] - 2s 138ms/step - loss: 1.1400e-04 - val_loss: 0.0051\n"
          ],
          "name": "stdout"
        },
        {
          "output_type": "execute_result",
          "data": {
            "text/plain": [
              "<keras.callbacks.History at 0x7fe5b697a1d0>"
            ]
          },
          "metadata": {},
          "execution_count": 65
        }
      ]
    },
    {
      "cell_type": "code",
      "metadata": {
        "id": "7aweW0CqY33n"
      },
      "source": [
        "import tensorflow as tf"
      ],
      "execution_count": 66,
      "outputs": []
    },
    {
      "cell_type": "code",
      "metadata": {
        "id": "pGAXWiL4Y33n",
        "colab": {
          "base_uri": "https://localhost:8080/",
          "height": 35
        },
        "outputId": "fa43740a-9eb0-4746-b446-5cca6d9cd813"
      },
      "source": [
        "tf.__version__"
      ],
      "execution_count": 67,
      "outputs": [
        {
          "output_type": "execute_result",
          "data": {
            "application/vnd.google.colaboratory.intrinsic+json": {
              "type": "string"
            },
            "text/plain": [
              "'2.6.0'"
            ]
          },
          "metadata": {},
          "execution_count": 67
        }
      ]
    },
    {
      "cell_type": "code",
      "metadata": {
        "id": "8UEEMAYgY33n"
      },
      "source": [
        "### Lets Do the prediction and check performance metrics\n",
        "train_predict=model.predict(X_train)\n",
        "test_predict=model.predict(X_test)"
      ],
      "execution_count": 68,
      "outputs": []
    },
    {
      "cell_type": "code",
      "metadata": {
        "id": "B8H6RZ4tY33n"
      },
      "source": [
        "##Transformback to original form\n",
        "train_predict=scaler.inverse_transform(train_predict)\n",
        "test_predict=scaler.inverse_transform(test_predict)"
      ],
      "execution_count": 69,
      "outputs": []
    },
    {
      "cell_type": "code",
      "metadata": {
        "id": "ISsBq0jhY33n",
        "colab": {
          "base_uri": "https://localhost:8080/"
        },
        "outputId": "060fe0bc-4304-4fd3-bc33-cdf283874dc3"
      },
      "source": [
        "### Calculate RMSE performance metrics\n",
        "import math\n",
        "from sklearn.metrics import mean_squared_error\n",
        "math.sqrt(mean_squared_error(y_train,train_predict))"
      ],
      "execution_count": 70,
      "outputs": [
        {
          "output_type": "execute_result",
          "data": {
            "text/plain": [
              "183.1100279095509"
            ]
          },
          "metadata": {},
          "execution_count": 70
        }
      ]
    },
    {
      "cell_type": "code",
      "metadata": {
        "id": "DkXBLIc7Y33n",
        "colab": {
          "base_uri": "https://localhost:8080/"
        },
        "outputId": "20cb1357-b9e5-4d94-ed77-4b4c724d1e4b"
      },
      "source": [
        "### Test Data RMSE\n",
        "math.sqrt(mean_squared_error(ytest,test_predict))"
      ],
      "execution_count": 71,
      "outputs": [
        {
          "output_type": "execute_result",
          "data": {
            "text/plain": [
              "221.0465271281818"
            ]
          },
          "metadata": {},
          "execution_count": 71
        }
      ]
    },
    {
      "cell_type": "code",
      "metadata": {
        "id": "HJOeFXQYY33o",
        "colab": {
          "base_uri": "https://localhost:8080/",
          "height": 265
        },
        "outputId": "4ae7c28f-e71d-48aa-ee3b-0fbaa894af1e"
      },
      "source": [
        "### Plotting \n",
        "# shift train predictions for plotting\n",
        "look_back=100\n",
        "trainPredictPlot = numpy.empty_like(df1)\n",
        "trainPredictPlot[:, :] = np.nan\n",
        "trainPredictPlot[look_back:len(train_predict)+look_back, :] = train_predict\n",
        "# shift test predictions for plotting\n",
        "testPredictPlot = numpy.empty_like(df1)\n",
        "testPredictPlot[:, :] = numpy.nan\n",
        "testPredictPlot[len(train_predict)+(look_back*2)+1:len(df1)-1, :] = test_predict\n",
        "# plot baseline and predictions\n",
        "plt.plot(scaler.inverse_transform(df1))\n",
        "plt.plot(trainPredictPlot)\n",
        "plt.plot(testPredictPlot)\n",
        "plt.show()"
      ],
      "execution_count": 72,
      "outputs": [
        {
          "output_type": "display_data",
          "data": {
            "image/png": "[encoded data removed]",
            "text/plain": [
              "<Figure size 432x288 with 1 Axes>"
            ]
          },
          "metadata": {
            "needs_background": "light"
          }
        }
      ]
    },
    {
      "cell_type": "code",
      "metadata": {
        "id": "-hkY8iVvY33o",
        "colab": {
          "base_uri": "https://localhost:8080/"
        },
        "outputId": "45233791-b74e-4705-b036-b2822deb23d0"
      },
      "source": [
        "len(test_data)"
      ],
      "execution_count": 73,
      "outputs": [
        {
          "output_type": "execute_result",
          "data": {
            "text/plain": [
              "441"
            ]
          },
          "metadata": {},
          "execution_count": 73
        }
      ]
    },
    {
      "cell_type": "code",
      "metadata": {
        "id": "6dxACo4ZY33o",
        "colab": {
          "base_uri": "https://localhost:8080/"
        },
        "outputId": "504ea333-ed1e-47ba-c9ae-8e4d4e2728de"
      },
      "source": [
        "x_input=test_data[341:].reshape(1,-1)\n",
        "x_input.shape"
      ],
      "execution_count": 74,
      "outputs": [
        {
          "output_type": "execute_result",
          "data": {
            "text/plain": [
              "(1, 100)"
            ]
          },
          "metadata": {},
          "execution_count": 74
        }
      ]
    },
    {
      "cell_type": "code",
      "metadata": {
        "id": "y8r6Hi1GY33o"
      },
      "source": [
        "temp_input=list(x_input)\n",
        "temp_input=temp_input[0].tolist()"
      ],
      "execution_count": 75,
      "outputs": []
    },
    {
      "cell_type": "code",
      "metadata": {
        "id": "0JjJ3fnnY33p"
      },
      "source": [
        "temp_input"
      ],
      "execution_count": null,
      "outputs": []
    },
    {
      "cell_type": "code",
      "metadata": {
        "id": "5-GSSnsIY33p",
        "colab": {
          "base_uri": "https://localhost:8080/"
        },
        "outputId": "0a6f3fa7-c250-4243-aad2-6ed8a5ee5156"
      },
      "source": [
        "# demonstrate prediction for next 10 days\n",
        "from numpy import array\n",
        "\n",
        "lst_output=[]\n",
        "n_steps=100\n",
        "i=0\n",
        "while(i<30):\n",
        "    \n",
        "    if(len(temp_input)>100):\n",
        "        #print(temp_input)\n",
        "        x_input=np.array(temp_input[1:])\n",
        "        print(\"{} day input {}\".format(i,x_input))\n",
        "        x_input=x_input.reshape(1,-1)\n",
        "        x_input = x_input.reshape((1, n_steps, 1))\n",
        "        #print(x_input)\n",
        "        yhat = model.predict(x_input, verbose=0)\n",
        "        print(\"{} day output {}\".format(i,yhat))\n",
        "        temp_input.extend(yhat[0].tolist())\n",
        "        temp_input=temp_input[1:]\n",
        "        #print(temp_input)\n",
        "        lst_output.extend(yhat.tolist())\n",
        "        i=i+1\n",
        "    else:\n",
        "        x_input = x_input.reshape((1, n_steps,1))\n",
        "        yhat = model.predict(x_input, verbose=0)\n",
        "        print(yhat[0])\n",
        "        temp_input.extend(yhat[0].tolist())\n",
        "        print(len(temp_input))\n",
        "        lst_output.extend(yhat.tolist())\n",
        "        i=i+1\n",
        "    \n",
        "\n",
        "print(lst_output)"
      ],
      "execution_count": 77,
      "outputs": [
        {
          "output_type": "stream",
          "text": [
            "[0.11413989]\n",
            "101\n",
            "1 day input [0.06587567 0.07247537 0.07228126 0.07834716 0.07562964 0.07679429\n",
            " 0.07487747 0.07854127 0.07208715 0.07373708 0.07160188 0.07808026\n",
            " 0.07851701 0.07681856 0.08205949 0.07067987 0.07131072 0.06924831\n",
            " 0.06441986 0.06124133 0.06842335 0.06492939 0.05058961 0.05034697\n",
            " 0.05321007 0.0572621  0.05864512 0.05801427 0.04976464 0.05478721\n",
            " 0.06107148 0.05667977 0.06107148 0.05897268 0.0577231  0.05561217\n",
            " 0.05442325 0.05248217 0.05345271 0.05197263 0.05706799 0.05811132\n",
            " 0.0595914  0.05913039 0.05794148 0.06107148 0.06621536 0.0672587\n",
            " 0.06587567 0.06808366 0.06708885 0.07152909 0.07550832 0.07715825\n",
            " 0.07475615 0.07463483 0.07800747 0.08133159 0.08237492 0.08552919\n",
            " 0.09079439 0.09920173 0.09445819 0.09729703 0.10569224 0.10040278\n",
            " 0.11027806 0.11304411 0.11115155 0.09972339 0.09901975 0.10404232\n",
            " 0.10502499 0.10894356 0.11069054 0.11275295 0.10229534 0.10199204\n",
            " 0.101252   0.10605619 0.1047217  0.10826418 0.10756054 0.10603193\n",
            " 0.10566798 0.1062503  0.10530402 0.10564371 0.11238899 0.11133353\n",
            " 0.11544621 0.11440287 0.10282914 0.10867666 0.1107876  0.11355365\n",
            " 0.11442714 0.11088465 0.10877372 0.11413989]\n",
            "1 day output [[0.11433079]]\n",
            "2 day input [0.07247537 0.07228126 0.07834716 0.07562964 0.07679429 0.07487747\n",
            " 0.07854127 0.07208715 0.07373708 0.07160188 0.07808026 0.07851701\n",
            " 0.07681856 0.08205949 0.07067987 0.07131072 0.06924831 0.06441986\n",
            " 0.06124133 0.06842335 0.06492939 0.05058961 0.05034697 0.05321007\n",
            " 0.0572621  0.05864512 0.05801427 0.04976464 0.05478721 0.06107148\n",
            " 0.05667977 0.06107148 0.05897268 0.0577231  0.05561217 0.05442325\n",
            " 0.05248217 0.05345271 0.05197263 0.05706799 0.05811132 0.0595914\n",
            " 0.05913039 0.05794148 0.06107148 0.06621536 0.0672587  0.06587567\n",
            " 0.06808366 0.06708885 0.07152909 0.07550832 0.07715825 0.07475615\n",
            " 0.07463483 0.07800747 0.08133159 0.08237492 0.08552919 0.09079439\n",
            " 0.09920173 0.09445819 0.09729703 0.10569224 0.10040278 0.11027806\n",
            " 0.11304411 0.11115155 0.09972339 0.09901975 0.10404232 0.10502499\n",
            " 0.10894356 0.11069054 0.11275295 0.10229534 0.10199204 0.101252\n",
            " 0.10605619 0.1047217  0.10826418 0.10756054 0.10603193 0.10566798\n",
            " 0.1062503  0.10530402 0.10564371 0.11238899 0.11133353 0.11544621\n",
            " 0.11440287 0.10282914 0.10867666 0.1107876  0.11355365 0.11442714\n",
            " 0.11088465 0.10877372 0.11413989 0.11433079]\n",
            "2 day output [[0.11476927]]\n",
            "3 day input [0.07228126 0.07834716 0.07562964 0.07679429 0.07487747 0.07854127\n",
            " 0.07208715 0.07373708 0.07160188 0.07808026 0.07851701 0.07681856\n",
            " 0.08205949 0.07067987 0.07131072 0.06924831 0.06441986 0.06124133\n",
            " 0.06842335 0.06492939 0.05058961 0.05034697 0.05321007 0.0572621\n",
            " 0.05864512 0.05801427 0.04976464 0.05478721 0.06107148 0.05667977\n",
            " 0.06107148 0.05897268 0.0577231  0.05561217 0.05442325 0.05248217\n",
            " 0.05345271 0.05197263 0.05706799 0.05811132 0.0595914  0.05913039\n",
            " 0.05794148 0.06107148 0.06621536 0.0672587  0.06587567 0.06808366\n",
            " 0.06708885 0.07152909 0.07550832 0.07715825 0.07475615 0.07463483\n",
            " 0.07800747 0.08133159 0.08237492 0.08552919 0.09079439 0.09920173\n",
            " 0.09445819 0.09729703 0.10569224 0.10040278 0.11027806 0.11304411\n",
            " 0.11115155 0.09972339 0.09901975 0.10404232 0.10502499 0.10894356\n",
            " 0.11069054 0.11275295 0.10229534 0.10199204 0.101252   0.10605619\n",
            " 0.1047217  0.10826418 0.10756054 0.10603193 0.10566798 0.1062503\n",
            " 0.10530402 0.10564371 0.11238899 0.11133353 0.11544621 0.11440287\n",
            " 0.10282914 0.10867666 0.1107876  0.11355365 0.11442714 0.11088465\n",
            " 0.10877372 0.11413989 0.11433079 0.11476927]\n",
            "3 day output [[0.11541539]]\n",
            "4 day input [0.07834716 0.07562964 0.07679429 0.07487747 0.07854127 0.07208715\n",
            " 0.07373708 0.07160188 0.07808026 0.07851701 0.07681856 0.08205949\n",
            " 0.07067987 0.07131072 0.06924831 0.06441986 0.06124133 0.06842335\n",
            " 0.06492939 0.05058961 0.05034697 0.05321007 0.0572621  0.05864512\n",
            " 0.05801427 0.04976464 0.05478721 0.06107148 0.05667977 0.06107148\n",
            " 0.05897268 0.0577231  0.05561217 0.05442325 0.05248217 0.05345271\n",
            " 0.05197263 0.05706799 0.05811132 0.0595914  0.05913039 0.05794148\n",
            " 0.06107148 0.06621536 0.0672587  0.06587567 0.06808366 0.06708885\n",
            " 0.07152909 0.07550832 0.07715825 0.07475615 0.07463483 0.07800747\n",
            " 0.08133159 0.08237492 0.08552919 0.09079439 0.09920173 0.09445819\n",
            " 0.09729703 0.10569224 0.10040278 0.11027806 0.11304411 0.11115155\n",
            " 0.09972339 0.09901975 0.10404232 0.10502499 0.10894356 0.11069054\n",
            " 0.11275295 0.10229534 0.10199204 0.101252   0.10605619 0.1047217\n",
            " 0.10826418 0.10756054 0.10603193 0.10566798 0.1062503  0.10530402\n",
            " 0.10564371 0.11238899 0.11133353 0.11544621 0.11440287 0.10282914\n",
            " 0.10867666 0.1107876  0.11355365 0.11442714 0.11088465 0.10877372\n",
            " 0.11413989 0.11433079 0.11476927 0.11541539]\n",
            "4 day output [[0.1161918]]\n",
            "5 day input [0.07562964 0.07679429 0.07487747 0.07854127 0.07208715 0.07373708\n",
            " 0.07160188 0.07808026 0.07851701 0.07681856 0.08205949 0.07067987\n",
            " 0.07131072 0.06924831 0.06441986 0.06124133 0.06842335 0.06492939\n",
            " 0.05058961 0.05034697 0.05321007 0.0572621  0.05864512 0.05801427\n",
            " 0.04976464 0.05478721 0.06107148 0.05667977 0.06107148 0.05897268\n",
            " 0.0577231  0.05561217 0.05442325 0.05248217 0.05345271 0.05197263\n",
            " 0.05706799 0.05811132 0.0595914  0.05913039 0.05794148 0.06107148\n",
            " 0.06621536 0.0672587  0.06587567 0.06808366 0.06708885 0.07152909\n",
            " 0.07550832 0.07715825 0.07475615 0.07463483 0.07800747 0.08133159\n",
            " 0.08237492 0.08552919 0.09079439 0.09920173 0.09445819 0.09729703\n",
            " 0.10569224 0.10040278 0.11027806 0.11304411 0.11115155 0.09972339\n",
            " 0.09901975 0.10404232 0.10502499 0.10894356 0.11069054 0.11275295\n",
            " 0.10229534 0.10199204 0.101252   0.10605619 0.1047217  0.10826418\n",
            " 0.10756054 0.10603193 0.10566798 0.1062503  0.10530402 0.10564371\n",
            " 0.11238899 0.11133353 0.11544621 0.11440287 0.10282914 0.10867666\n",
            " 0.1107876  0.11355365 0.11442714 0.11088465 0.10877372 0.11413989\n",
            " 0.11433079 0.11476927 0.11541539 0.1161918 ]\n",
            "5 day output [[0.11703259]]\n",
            "6 day input [0.07679429 0.07487747 0.07854127 0.07208715 0.07373708 0.07160188\n",
            " 0.07808026 0.07851701 0.07681856 0.08205949 0.07067987 0.07131072\n",
            " 0.06924831 0.06441986 0.06124133 0.06842335 0.06492939 0.05058961\n",
            " 0.05034697 0.05321007 0.0572621  0.05864512 0.05801427 0.04976464\n",
            " 0.05478721 0.06107148 0.05667977 0.06107148 0.05897268 0.0577231\n",
            " 0.05561217 0.05442325 0.05248217 0.05345271 0.05197263 0.05706799\n",
            " 0.05811132 0.0595914  0.05913039 0.05794148 0.06107148 0.06621536\n",
            " 0.0672587  0.06587567 0.06808366 0.06708885 0.07152909 0.07550832\n",
            " 0.07715825 0.07475615 0.07463483 0.07800747 0.08133159 0.08237492\n",
            " 0.08552919 0.09079439 0.09920173 0.09445819 0.09729703 0.10569224\n",
            " 0.10040278 0.11027806 0.11304411 0.11115155 0.09972339 0.09901975\n",
            " 0.10404232 0.10502499 0.10894356 0.11069054 0.11275295 0.10229534\n",
            " 0.10199204 0.101252   0.10605619 0.1047217  0.10826418 0.10756054\n",
            " 0.10603193 0.10566798 0.1062503  0.10530402 0.10564371 0.11238899\n",
            " 0.11133353 0.11544621 0.11440287 0.10282914 0.10867666 0.1107876\n",
            " 0.11355365 0.11442714 0.11088465 0.10877372 0.11413989 0.11433079\n",
            " 0.11476927 0.11541539 0.1161918  0.11703259]\n",
            "6 day output [[0.11789523]]\n",
            "7 day input [0.07487747 0.07854127 0.07208715 0.07373708 0.07160188 0.07808026\n",
            " 0.07851701 0.07681856 0.08205949 0.07067987 0.07131072 0.06924831\n",
            " 0.06441986 0.06124133 0.06842335 0.06492939 0.05058961 0.05034697\n",
            " 0.05321007 0.0572621  0.05864512 0.05801427 0.04976464 0.05478721\n",
            " 0.06107148 0.05667977 0.06107148 0.05897268 0.0577231  0.05561217\n",
            " 0.05442325 0.05248217 0.05345271 0.05197263 0.05706799 0.05811132\n",
            " 0.0595914  0.05913039 0.05794148 0.06107148 0.06621536 0.0672587\n",
            " 0.06587567 0.06808366 0.06708885 0.07152909 0.07550832 0.07715825\n",
            " 0.07475615 0.07463483 0.07800747 0.08133159 0.08237492 0.08552919\n",
            " 0.09079439 0.09920173 0.09445819 0.09729703 0.10569224 0.10040278\n",
            " 0.11027806 0.11304411 0.11115155 0.09972339 0.09901975 0.10404232\n",
            " 0.10502499 0.10894356 0.11069054 0.11275295 0.10229534 0.10199204\n",
            " 0.101252   0.10605619 0.1047217  0.10826418 0.10756054 0.10603193\n",
            " 0.10566798 0.1062503  0.10530402 0.10564371 0.11238899 0.11133353\n",
            " 0.11544621 0.11440287 0.10282914 0.10867666 0.1107876  0.11355365\n",
            " 0.11442714 0.11088465 0.10877372 0.11413989 0.11433079 0.11476927\n",
            " 0.11541539 0.1161918  0.11703259 0.11789523]\n",
            "7 day output [[0.118757]]\n",
            "8 day input [0.07854127 0.07208715 0.07373708 0.07160188 0.07808026 0.07851701\n",
            " 0.07681856 0.08205949 0.07067987 0.07131072 0.06924831 0.06441986\n",
            " 0.06124133 0.06842335 0.06492939 0.05058961 0.05034697 0.05321007\n",
            " 0.0572621  0.05864512 0.05801427 0.04976464 0.05478721 0.06107148\n",
            " 0.05667977 0.06107148 0.05897268 0.0577231  0.05561217 0.05442325\n",
            " 0.05248217 0.05345271 0.05197263 0.05706799 0.05811132 0.0595914\n",
            " 0.05913039 0.05794148 0.06107148 0.06621536 0.0672587  0.06587567\n",
            " 0.06808366 0.06708885 0.07152909 0.07550832 0.07715825 0.07475615\n",
            " 0.07463483 0.07800747 0.08133159 0.08237492 0.08552919 0.09079439\n",
            " 0.09920173 0.09445819 0.09729703 0.10569224 0.10040278 0.11027806\n",
            " 0.11304411 0.11115155 0.09972339 0.09901975 0.10404232 0.10502499\n",
            " 0.10894356 0.11069054 0.11275295 0.10229534 0.10199204 0.101252\n",
            " 0.10605619 0.1047217  0.10826418 0.10756054 0.10603193 0.10566798\n",
            " 0.1062503  0.10530402 0.10564371 0.11238899 0.11133353 0.11544621\n",
            " 0.11440287 0.10282914 0.10867666 0.1107876  0.11355365 0.11442714\n",
            " 0.11088465 0.10877372 0.11413989 0.11433079 0.11476927 0.11541539\n",
            " 0.1161918  0.11703259 0.11789523 0.118757  ]\n",
            "8 day output [[0.11960761]]\n",
            "9 day input [0.07208715 0.07373708 0.07160188 0.07808026 0.07851701 0.07681856\n",
            " 0.08205949 0.07067987 0.07131072 0.06924831 0.06441986 0.06124133\n",
            " 0.06842335 0.06492939 0.05058961 0.05034697 0.05321007 0.0572621\n",
            " 0.05864512 0.05801427 0.04976464 0.05478721 0.06107148 0.05667977\n",
            " 0.06107148 0.05897268 0.0577231  0.05561217 0.05442325 0.05248217\n",
            " 0.05345271 0.05197263 0.05706799 0.05811132 0.0595914  0.05913039\n",
            " 0.05794148 0.06107148 0.06621536 0.0672587  0.06587567 0.06808366\n",
            " 0.06708885 0.07152909 0.07550832 0.07715825 0.07475615 0.07463483\n",
            " 0.07800747 0.08133159 0.08237492 0.08552919 0.09079439 0.09920173\n",
            " 0.09445819 0.09729703 0.10569224 0.10040278 0.11027806 0.11304411\n",
            " 0.11115155 0.09972339 0.09901975 0.10404232 0.10502499 0.10894356\n",
            " 0.11069054 0.11275295 0.10229534 0.10199204 0.101252   0.10605619\n",
            " 0.1047217  0.10826418 0.10756054 0.10603193 0.10566798 0.1062503\n",
            " 0.10530402 0.10564371 0.11238899 0.11133353 0.11544621 0.11440287\n",
            " 0.10282914 0.10867666 0.1107876  0.11355365 0.11442714 0.11088465\n",
            " 0.10877372 0.11413989 0.11433079 0.11476927 0.11541539 0.1161918\n",
            " 0.11703259 0.11789523 0.118757   0.11960761]\n",
            "9 day output [[0.12044334]]\n",
            "10 day input [0.07373708 0.07160188 0.07808026 0.07851701 0.07681856 0.08205949\n",
            " 0.07067987 0.07131072 0.06924831 0.06441986 0.06124133 0.06842335\n",
            " 0.06492939 0.05058961 0.05034697 0.05321007 0.0572621  0.05864512\n",
            " 0.05801427 0.04976464 0.05478721 0.06107148 0.05667977 0.06107148\n",
            " 0.05897268 0.0577231  0.05561217 0.05442325 0.05248217 0.05345271\n",
            " 0.05197263 0.05706799 0.05811132 0.0595914  0.05913039 0.05794148\n",
            " 0.06107148 0.06621536 0.0672587  0.06587567 0.06808366 0.06708885\n",
            " 0.07152909 0.07550832 0.07715825 0.07475615 0.07463483 0.07800747\n",
            " 0.08133159 0.08237492 0.08552919 0.09079439 0.09920173 0.09445819\n",
            " 0.09729703 0.10569224 0.10040278 0.11027806 0.11304411 0.11115155\n",
            " 0.09972339 0.09901975 0.10404232 0.10502499 0.10894356 0.11069054\n",
            " 0.11275295 0.10229534 0.10199204 0.101252   0.10605619 0.1047217\n",
            " 0.10826418 0.10756054 0.10603193 0.10566798 0.1062503  0.10530402\n",
            " 0.10564371 0.11238899 0.11133353 0.11544621 0.11440287 0.10282914\n",
            " 0.10867666 0.1107876  0.11355365 0.11442714 0.11088465 0.10877372\n",
            " 0.11413989 0.11433079 0.11476927 0.11541539 0.1161918  0.11703259\n",
            " 0.11789523 0.118757   0.11960761 0.12044334]\n",
            "10 day output [[0.12126332]]\n",
            "11 day input [0.07160188 0.07808026 0.07851701 0.07681856 0.08205949 0.07067987\n",
            " 0.07131072 0.06924831 0.06441986 0.06124133 0.06842335 0.06492939\n",
            " 0.05058961 0.05034697 0.05321007 0.0572621  0.05864512 0.05801427\n",
            " 0.04976464 0.05478721 0.06107148 0.05667977 0.06107148 0.05897268\n",
            " 0.0577231  0.05561217 0.05442325 0.05248217 0.05345271 0.05197263\n",
            " 0.05706799 0.05811132 0.0595914  0.05913039 0.05794148 0.06107148\n",
            " 0.06621536 0.0672587  0.06587567 0.06808366 0.06708885 0.07152909\n",
            " 0.07550832 0.07715825 0.07475615 0.07463483 0.07800747 0.08133159\n",
            " 0.08237492 0.08552919 0.09079439 0.09920173 0.09445819 0.09729703\n",
            " 0.10569224 0.10040278 0.11027806 0.11304411 0.11115155 0.09972339\n",
            " 0.09901975 0.10404232 0.10502499 0.10894356 0.11069054 0.11275295\n",
            " 0.10229534 0.10199204 0.101252   0.10605619 0.1047217  0.10826418\n",
            " 0.10756054 0.10603193 0.10566798 0.1062503  0.10530402 0.10564371\n",
            " 0.11238899 0.11133353 0.11544621 0.11440287 0.10282914 0.10867666\n",
            " 0.1107876  0.11355365 0.11442714 0.11088465 0.10877372 0.11413989\n",
            " 0.11433079 0.11476927 0.11541539 0.1161918  0.11703259 0.11789523\n",
            " 0.118757   0.11960761 0.12044334 0.12126332]\n",
            "11 day output [[0.12206799]]\n",
            "12 day input [0.07808026 0.07851701 0.07681856 0.08205949 0.07067987 0.07131072\n",
            " 0.06924831 0.06441986 0.06124133 0.06842335 0.06492939 0.05058961\n",
            " 0.05034697 0.05321007 0.0572621  0.05864512 0.05801427 0.04976464\n",
            " 0.05478721 0.06107148 0.05667977 0.06107148 0.05897268 0.0577231\n",
            " 0.05561217 0.05442325 0.05248217 0.05345271 0.05197263 0.05706799\n",
            " 0.05811132 0.0595914  0.05913039 0.05794148 0.06107148 0.06621536\n",
            " 0.0672587  0.06587567 0.06808366 0.06708885 0.07152909 0.07550832\n",
            " 0.07715825 0.07475615 0.07463483 0.07800747 0.08133159 0.08237492\n",
            " 0.08552919 0.09079439 0.09920173 0.09445819 0.09729703 0.10569224\n",
            " 0.10040278 0.11027806 0.11304411 0.11115155 0.09972339 0.09901975\n",
            " 0.10404232 0.10502499 0.10894356 0.11069054 0.11275295 0.10229534\n",
            " 0.10199204 0.101252   0.10605619 0.1047217  0.10826418 0.10756054\n",
            " 0.10603193 0.10566798 0.1062503  0.10530402 0.10564371 0.11238899\n",
            " 0.11133353 0.11544621 0.11440287 0.10282914 0.10867666 0.1107876\n",
            " 0.11355365 0.11442714 0.11088465 0.10877372 0.11413989 0.11433079\n",
            " 0.11476927 0.11541539 0.1161918  0.11703259 0.11789523 0.118757\n",
            " 0.11960761 0.12044334 0.12126332 0.12206799]\n",
            "12 day output [[0.12285836]]\n",
            "13 day input [0.07851701 0.07681856 0.08205949 0.07067987 0.07131072 0.06924831\n",
            " 0.06441986 0.06124133 0.06842335 0.06492939 0.05058961 0.05034697\n",
            " 0.05321007 0.0572621  0.05864512 0.05801427 0.04976464 0.05478721\n",
            " 0.06107148 0.05667977 0.06107148 0.05897268 0.0577231  0.05561217\n",
            " 0.05442325 0.05248217 0.05345271 0.05197263 0.05706799 0.05811132\n",
            " 0.0595914  0.05913039 0.05794148 0.06107148 0.06621536 0.0672587\n",
            " 0.06587567 0.06808366 0.06708885 0.07152909 0.07550832 0.07715825\n",
            " 0.07475615 0.07463483 0.07800747 0.08133159 0.08237492 0.08552919\n",
            " 0.09079439 0.09920173 0.09445819 0.09729703 0.10569224 0.10040278\n",
            " 0.11027806 0.11304411 0.11115155 0.09972339 0.09901975 0.10404232\n",
            " 0.10502499 0.10894356 0.11069054 0.11275295 0.10229534 0.10199204\n",
            " 0.101252   0.10605619 0.1047217  0.10826418 0.10756054 0.10603193\n",
            " 0.10566798 0.1062503  0.10530402 0.10564371 0.11238899 0.11133353\n",
            " 0.11544621 0.11440287 0.10282914 0.10867666 0.1107876  0.11355365\n",
            " 0.11442714 0.11088465 0.10877372 0.11413989 0.11433079 0.11476927\n",
            " 0.11541539 0.1161918  0.11703259 0.11789523 0.118757   0.11960761\n",
            " 0.12044334 0.12126332 0.12206799 0.12285836]\n",
            "13 day output [[0.12363581]]\n",
            "14 day input [0.07681856 0.08205949 0.07067987 0.07131072 0.06924831 0.06441986\n",
            " 0.06124133 0.06842335 0.06492939 0.05058961 0.05034697 0.05321007\n",
            " 0.0572621  0.05864512 0.05801427 0.04976464 0.05478721 0.06107148\n",
            " 0.05667977 0.06107148 0.05897268 0.0577231  0.05561217 0.05442325\n",
            " 0.05248217 0.05345271 0.05197263 0.05706799 0.05811132 0.0595914\n",
            " 0.05913039 0.05794148 0.06107148 0.06621536 0.0672587  0.06587567\n",
            " 0.06808366 0.06708885 0.07152909 0.07550832 0.07715825 0.07475615\n",
            " 0.07463483 0.07800747 0.08133159 0.08237492 0.08552919 0.09079439\n",
            " 0.09920173 0.09445819 0.09729703 0.10569224 0.10040278 0.11027806\n",
            " 0.11304411 0.11115155 0.09972339 0.09901975 0.10404232 0.10502499\n",
            " 0.10894356 0.11069054 0.11275295 0.10229534 0.10199204 0.101252\n",
            " 0.10605619 0.1047217  0.10826418 0.10756054 0.10603193 0.10566798\n",
            " 0.1062503  0.10530402 0.10564371 0.11238899 0.11133353 0.11544621\n",
            " 0.11440287 0.10282914 0.10867666 0.1107876  0.11355365 0.11442714\n",
            " 0.11088465 0.10877372 0.11413989 0.11433079 0.11476927 0.11541539\n",
            " 0.1161918  0.11703259 0.11789523 0.118757   0.11960761 0.12044334\n",
            " 0.12126332 0.12206799 0.12285836 0.12363581]\n",
            "14 day output [[0.12440193]]\n",
            "15 day input [0.08205949 0.07067987 0.07131072 0.06924831 0.06441986 0.06124133\n",
            " 0.06842335 0.06492939 0.05058961 0.05034697 0.05321007 0.0572621\n",
            " 0.05864512 0.05801427 0.04976464 0.05478721 0.06107148 0.05667977\n",
            " 0.06107148 0.05897268 0.0577231  0.05561217 0.05442325 0.05248217\n",
            " 0.05345271 0.05197263 0.05706799 0.05811132 0.0595914  0.05913039\n",
            " 0.05794148 0.06107148 0.06621536 0.0672587  0.06587567 0.06808366\n",
            " 0.06708885 0.07152909 0.07550832 0.07715825 0.07475615 0.07463483\n",
            " 0.07800747 0.08133159 0.08237492 0.08552919 0.09079439 0.09920173\n",
            " 0.09445819 0.09729703 0.10569224 0.10040278 0.11027806 0.11304411\n",
            " 0.11115155 0.09972339 0.09901975 0.10404232 0.10502499 0.10894356\n",
            " 0.11069054 0.11275295 0.10229534 0.10199204 0.101252   0.10605619\n",
            " 0.1047217  0.10826418 0.10756054 0.10603193 0.10566798 0.1062503\n",
            " 0.10530402 0.10564371 0.11238899 0.11133353 0.11544621 0.11440287\n",
            " 0.10282914 0.10867666 0.1107876  0.11355365 0.11442714 0.11088465\n",
            " 0.10877372 0.11413989 0.11433079 0.11476927 0.11541539 0.1161918\n",
            " 0.11703259 0.11789523 0.118757   0.11960761 0.12044334 0.12126332\n",
            " 0.12206799 0.12285836 0.12363581 0.12440193]\n",
            "15 day output [[0.12515865]]\n",
            "16 day input [0.07067987 0.07131072 0.06924831 0.06441986 0.06124133 0.06842335\n",
            " 0.06492939 0.05058961 0.05034697 0.05321007 0.0572621  0.05864512\n",
            " 0.05801427 0.04976464 0.05478721 0.06107148 0.05667977 0.06107148\n",
            " 0.05897268 0.0577231  0.05561217 0.05442325 0.05248217 0.05345271\n",
            " 0.05197263 0.05706799 0.05811132 0.0595914  0.05913039 0.05794148\n",
            " 0.06107148 0.06621536 0.0672587  0.06587567 0.06808366 0.06708885\n",
            " 0.07152909 0.07550832 0.07715825 0.07475615 0.07463483 0.07800747\n",
            " 0.08133159 0.08237492 0.08552919 0.09079439 0.09920173 0.09445819\n",
            " 0.09729703 0.10569224 0.10040278 0.11027806 0.11304411 0.11115155\n",
            " 0.09972339 0.09901975 0.10404232 0.10502499 0.10894356 0.11069054\n",
            " 0.11275295 0.10229534 0.10199204 0.101252   0.10605619 0.1047217\n",
            " 0.10826418 0.10756054 0.10603193 0.10566798 0.1062503  0.10530402\n",
            " 0.10564371 0.11238899 0.11133353 0.11544621 0.11440287 0.10282914\n",
            " 0.10867666 0.1107876  0.11355365 0.11442714 0.11088465 0.10877372\n",
            " 0.11413989 0.11433079 0.11476927 0.11541539 0.1161918  0.11703259\n",
            " 0.11789523 0.118757   0.11960761 0.12044334 0.12126332 0.12206799\n",
            " 0.12285836 0.12363581 0.12440193 0.12515865]\n",
            "16 day output [[0.12590794]]\n",
            "17 day input [0.07131072 0.06924831 0.06441986 0.06124133 0.06842335 0.06492939\n",
            " 0.05058961 0.05034697 0.05321007 0.0572621  0.05864512 0.05801427\n",
            " 0.04976464 0.05478721 0.06107148 0.05667977 0.06107148 0.05897268\n",
            " 0.0577231  0.05561217 0.05442325 0.05248217 0.05345271 0.05197263\n",
            " 0.05706799 0.05811132 0.0595914  0.05913039 0.05794148 0.06107148\n",
            " 0.06621536 0.0672587  0.06587567 0.06808366 0.06708885 0.07152909\n",
            " 0.07550832 0.07715825 0.07475615 0.07463483 0.07800747 0.08133159\n",
            " 0.08237492 0.08552919 0.09079439 0.09920173 0.09445819 0.09729703\n",
            " 0.10569224 0.10040278 0.11027806 0.11304411 0.11115155 0.09972339\n",
            " 0.09901975 0.10404232 0.10502499 0.10894356 0.11069054 0.11275295\n",
            " 0.10229534 0.10199204 0.101252   0.10605619 0.1047217  0.10826418\n",
            " 0.10756054 0.10603193 0.10566798 0.1062503  0.10530402 0.10564371\n",
            " 0.11238899 0.11133353 0.11544621 0.11440287 0.10282914 0.10867666\n",
            " 0.1107876  0.11355365 0.11442714 0.11088465 0.10877372 0.11413989\n",
            " 0.11433079 0.11476927 0.11541539 0.1161918  0.11703259 0.11789523\n",
            " 0.118757   0.11960761 0.12044334 0.12126332 0.12206799 0.12285836\n",
            " 0.12363581 0.12440193 0.12515865 0.12590794]\n",
            "17 day output [[0.1266516]]\n",
            "18 day input [0.06924831 0.06441986 0.06124133 0.06842335 0.06492939 0.05058961\n",
            " 0.05034697 0.05321007 0.0572621  0.05864512 0.05801427 0.04976464\n",
            " 0.05478721 0.06107148 0.05667977 0.06107148 0.05897268 0.0577231\n",
            " 0.05561217 0.05442325 0.05248217 0.05345271 0.05197263 0.05706799\n",
            " 0.05811132 0.0595914  0.05913039 0.05794148 0.06107148 0.06621536\n",
            " 0.0672587  0.06587567 0.06808366 0.06708885 0.07152909 0.07550832\n",
            " 0.07715825 0.07475615 0.07463483 0.07800747 0.08133159 0.08237492\n",
            " 0.08552919 0.09079439 0.09920173 0.09445819 0.09729703 0.10569224\n",
            " 0.10040278 0.11027806 0.11304411 0.11115155 0.09972339 0.09901975\n",
            " 0.10404232 0.10502499 0.10894356 0.11069054 0.11275295 0.10229534\n",
            " 0.10199204 0.101252   0.10605619 0.1047217  0.10826418 0.10756054\n",
            " 0.10603193 0.10566798 0.1062503  0.10530402 0.10564371 0.11238899\n",
            " 0.11133353 0.11544621 0.11440287 0.10282914 0.10867666 0.1107876\n",
            " 0.11355365 0.11442714 0.11088465 0.10877372 0.11413989 0.11433079\n",
            " 0.11476927 0.11541539 0.1161918  0.11703259 0.11789523 0.118757\n",
            " 0.11960761 0.12044334 0.12126332 0.12206799 0.12285836 0.12363581\n",
            " 0.12440193 0.12515865 0.12590794 0.1266516 ]\n",
            "18 day output [[0.12739143]]\n",
            "19 day input [0.06441986 0.06124133 0.06842335 0.06492939 0.05058961 0.05034697\n",
            " 0.05321007 0.0572621  0.05864512 0.05801427 0.04976464 0.05478721\n",
            " 0.06107148 0.05667977 0.06107148 0.05897268 0.0577231  0.05561217\n",
            " 0.05442325 0.05248217 0.05345271 0.05197263 0.05706799 0.05811132\n",
            " 0.0595914  0.05913039 0.05794148 0.06107148 0.06621536 0.0672587\n",
            " 0.06587567 0.06808366 0.06708885 0.07152909 0.07550832 0.07715825\n",
            " 0.07475615 0.07463483 0.07800747 0.08133159 0.08237492 0.08552919\n",
            " 0.09079439 0.09920173 0.09445819 0.09729703 0.10569224 0.10040278\n",
            " 0.11027806 0.11304411 0.11115155 0.09972339 0.09901975 0.10404232\n",
            " 0.10502499 0.10894356 0.11069054 0.11275295 0.10229534 0.10199204\n",
            " 0.101252   0.10605619 0.1047217  0.10826418 0.10756054 0.10603193\n",
            " 0.10566798 0.1062503  0.10530402 0.10564371 0.11238899 0.11133353\n",
            " 0.11544621 0.11440287 0.10282914 0.10867666 0.1107876  0.11355365\n",
            " 0.11442714 0.11088465 0.10877372 0.11413989 0.11433079 0.11476927\n",
            " 0.11541539 0.1161918  0.11703259 0.11789523 0.118757   0.11960761\n",
            " 0.12044334 0.12126332 0.12206799 0.12285836 0.12363581 0.12440193\n",
            " 0.12515865 0.12590794 0.1266516  0.12739143]\n",
            "19 day output [[0.1281289]]\n",
            "20 day input [0.06124133 0.06842335 0.06492939 0.05058961 0.05034697 0.05321007\n",
            " 0.0572621  0.05864512 0.05801427 0.04976464 0.05478721 0.06107148\n",
            " 0.05667977 0.06107148 0.05897268 0.0577231  0.05561217 0.05442325\n",
            " 0.05248217 0.05345271 0.05197263 0.05706799 0.05811132 0.0595914\n",
            " 0.05913039 0.05794148 0.06107148 0.06621536 0.0672587  0.06587567\n",
            " 0.06808366 0.06708885 0.07152909 0.07550832 0.07715825 0.07475615\n",
            " 0.07463483 0.07800747 0.08133159 0.08237492 0.08552919 0.09079439\n",
            " 0.09920173 0.09445819 0.09729703 0.10569224 0.10040278 0.11027806\n",
            " 0.11304411 0.11115155 0.09972339 0.09901975 0.10404232 0.10502499\n",
            " 0.10894356 0.11069054 0.11275295 0.10229534 0.10199204 0.101252\n",
            " 0.10605619 0.1047217  0.10826418 0.10756054 0.10603193 0.10566798\n",
            " 0.1062503  0.10530402 0.10564371 0.11238899 0.11133353 0.11544621\n",
            " 0.11440287 0.10282914 0.10867666 0.1107876  0.11355365 0.11442714\n",
            " 0.11088465 0.10877372 0.11413989 0.11433079 0.11476927 0.11541539\n",
            " 0.1161918  0.11703259 0.11789523 0.118757   0.11960761 0.12044334\n",
            " 0.12126332 0.12206799 0.12285836 0.12363581 0.12440193 0.12515865\n",
            " 0.12590794 0.1266516  0.12739143 0.1281289 ]\n",
            "20 day output [[0.12886515]]\n",
            "21 day input [0.06842335 0.06492939 0.05058961 0.05034697 0.05321007 0.0572621\n",
            " 0.05864512 0.05801427 0.04976464 0.05478721 0.06107148 0.05667977\n",
            " 0.06107148 0.05897268 0.0577231  0.05561217 0.05442325 0.05248217\n",
            " 0.05345271 0.05197263 0.05706799 0.05811132 0.0595914  0.05913039\n",
            " 0.05794148 0.06107148 0.06621536 0.0672587  0.06587567 0.06808366\n",
            " 0.06708885 0.07152909 0.07550832 0.07715825 0.07475615 0.07463483\n",
            " 0.07800747 0.08133159 0.08237492 0.08552919 0.09079439 0.09920173\n",
            " 0.09445819 0.09729703 0.10569224 0.10040278 0.11027806 0.11304411\n",
            " 0.11115155 0.09972339 0.09901975 0.10404232 0.10502499 0.10894356\n",
            " 0.11069054 0.11275295 0.10229534 0.10199204 0.101252   0.10605619\n",
            " 0.1047217  0.10826418 0.10756054 0.10603193 0.10566798 0.1062503\n",
            " 0.10530402 0.10564371 0.11238899 0.11133353 0.11544621 0.11440287\n",
            " 0.10282914 0.10867666 0.1107876  0.11355365 0.11442714 0.11088465\n",
            " 0.10877372 0.11413989 0.11433079 0.11476927 0.11541539 0.1161918\n",
            " 0.11703259 0.11789523 0.118757   0.11960761 0.12044334 0.12126332\n",
            " 0.12206799 0.12285836 0.12363581 0.12440193 0.12515865 0.12590794\n",
            " 0.1266516  0.12739143 0.1281289  0.12886515]\n",
            "21 day output [[0.12960097]]\n",
            "22 day input [0.06492939 0.05058961 0.05034697 0.05321007 0.0572621  0.05864512\n",
            " 0.05801427 0.04976464 0.05478721 0.06107148 0.05667977 0.06107148\n",
            " 0.05897268 0.0577231  0.05561217 0.05442325 0.05248217 0.05345271\n",
            " 0.05197263 0.05706799 0.05811132 0.0595914  0.05913039 0.05794148\n",
            " 0.06107148 0.06621536 0.0672587  0.06587567 0.06808366 0.06708885\n",
            " 0.07152909 0.07550832 0.07715825 0.07475615 0.07463483 0.07800747\n",
            " 0.08133159 0.08237492 0.08552919 0.09079439 0.09920173 0.09445819\n",
            " 0.09729703 0.10569224 0.10040278 0.11027806 0.11304411 0.11115155\n",
            " 0.09972339 0.09901975 0.10404232 0.10502499 0.10894356 0.11069054\n",
            " 0.11275295 0.10229534 0.10199204 0.101252   0.10605619 0.1047217\n",
            " 0.10826418 0.10756054 0.10603193 0.10566798 0.1062503  0.10530402\n",
            " 0.10564371 0.11238899 0.11133353 0.11544621 0.11440287 0.10282914\n",
            " 0.10867666 0.1107876  0.11355365 0.11442714 0.11088465 0.10877372\n",
            " 0.11413989 0.11433079 0.11476927 0.11541539 0.1161918  0.11703259\n",
            " 0.11789523 0.118757   0.11960761 0.12044334 0.12126332 0.12206799\n",
            " 0.12285836 0.12363581 0.12440193 0.12515865 0.12590794 0.1266516\n",
            " 0.12739143 0.1281289  0.12886515 0.12960097]\n",
            "22 day output [[0.13033693]]\n",
            "23 day input [0.05058961 0.05034697 0.05321007 0.0572621  0.05864512 0.05801427\n",
            " 0.04976464 0.05478721 0.06107148 0.05667977 0.06107148 0.05897268\n",
            " 0.0577231  0.05561217 0.05442325 0.05248217 0.05345271 0.05197263\n",
            " 0.05706799 0.05811132 0.0595914  0.05913039 0.05794148 0.06107148\n",
            " 0.06621536 0.0672587  0.06587567 0.06808366 0.06708885 0.07152909\n",
            " 0.07550832 0.07715825 0.07475615 0.07463483 0.07800747 0.08133159\n",
            " 0.08237492 0.08552919 0.09079439 0.09920173 0.09445819 0.09729703\n",
            " 0.10569224 0.10040278 0.11027806 0.11304411 0.11115155 0.09972339\n",
            " 0.09901975 0.10404232 0.10502499 0.10894356 0.11069054 0.11275295\n",
            " 0.10229534 0.10199204 0.101252   0.10605619 0.1047217  0.10826418\n",
            " 0.10756054 0.10603193 0.10566798 0.1062503  0.10530402 0.10564371\n",
            " 0.11238899 0.11133353 0.11544621 0.11440287 0.10282914 0.10867666\n",
            " 0.1107876  0.11355365 0.11442714 0.11088465 0.10877372 0.11413989\n",
            " 0.11433079 0.11476927 0.11541539 0.1161918  0.11703259 0.11789523\n",
            " 0.118757   0.11960761 0.12044334 0.12126332 0.12206799 0.12285836\n",
            " 0.12363581 0.12440193 0.12515865 0.12590794 0.1266516  0.12739143\n",
            " 0.1281289  0.12886515 0.12960097 0.13033693]\n",
            "23 day output [[0.13107319]]\n",
            "24 day input [0.05034697 0.05321007 0.0572621  0.05864512 0.05801427 0.04976464\n",
            " 0.05478721 0.06107148 0.05667977 0.06107148 0.05897268 0.0577231\n",
            " 0.05561217 0.05442325 0.05248217 0.05345271 0.05197263 0.05706799\n",
            " 0.05811132 0.0595914  0.05913039 0.05794148 0.06107148 0.06621536\n",
            " 0.0672587  0.06587567 0.06808366 0.06708885 0.07152909 0.07550832\n",
            " 0.07715825 0.07475615 0.07463483 0.07800747 0.08133159 0.08237492\n",
            " 0.08552919 0.09079439 0.09920173 0.09445819 0.09729703 0.10569224\n",
            " 0.10040278 0.11027806 0.11304411 0.11115155 0.09972339 0.09901975\n",
            " 0.10404232 0.10502499 0.10894356 0.11069054 0.11275295 0.10229534\n",
            " 0.10199204 0.101252   0.10605619 0.1047217  0.10826418 0.10756054\n",
            " 0.10603193 0.10566798 0.1062503  0.10530402 0.10564371 0.11238899\n",
            " 0.11133353 0.11544621 0.11440287 0.10282914 0.10867666 0.1107876\n",
            " 0.11355365 0.11442714 0.11088465 0.10877372 0.11413989 0.11433079\n",
            " 0.11476927 0.11541539 0.1161918  0.11703259 0.11789523 0.118757\n",
            " 0.11960761 0.12044334 0.12126332 0.12206799 0.12285836 0.12363581\n",
            " 0.12440193 0.12515865 0.12590794 0.1266516  0.12739143 0.1281289\n",
            " 0.12886515 0.12960097 0.13033693 0.13107319]\n",
            "24 day output [[0.13180979]]\n",
            "25 day input [0.05321007 0.0572621  0.05864512 0.05801427 0.04976464 0.05478721\n",
            " 0.06107148 0.05667977 0.06107148 0.05897268 0.0577231  0.05561217\n",
            " 0.05442325 0.05248217 0.05345271 0.05197263 0.05706799 0.05811132\n",
            " 0.0595914  0.05913039 0.05794148 0.06107148 0.06621536 0.0672587\n",
            " 0.06587567 0.06808366 0.06708885 0.07152909 0.07550832 0.07715825\n",
            " 0.07475615 0.07463483 0.07800747 0.08133159 0.08237492 0.08552919\n",
            " 0.09079439 0.09920173 0.09445819 0.09729703 0.10569224 0.10040278\n",
            " 0.11027806 0.11304411 0.11115155 0.09972339 0.09901975 0.10404232\n",
            " 0.10502499 0.10894356 0.11069054 0.11275295 0.10229534 0.10199204\n",
            " 0.101252   0.10605619 0.1047217  0.10826418 0.10756054 0.10603193\n",
            " 0.10566798 0.1062503  0.10530402 0.10564371 0.11238899 0.11133353\n",
            " 0.11544621 0.11440287 0.10282914 0.10867666 0.1107876  0.11355365\n",
            " 0.11442714 0.11088465 0.10877372 0.11413989 0.11433079 0.11476927\n",
            " 0.11541539 0.1161918  0.11703259 0.11789523 0.118757   0.11960761\n",
            " 0.12044334 0.12126332 0.12206799 0.12285836 0.12363581 0.12440193\n",
            " 0.12515865 0.12590794 0.1266516  0.12739143 0.1281289  0.12886515\n",
            " 0.12960097 0.13033693 0.13107319 0.13180979]\n",
            "25 day output [[0.13254647]]\n",
            "26 day input [0.0572621  0.05864512 0.05801427 0.04976464 0.05478721 0.06107148\n",
            " 0.05667977 0.06107148 0.05897268 0.0577231  0.05561217 0.05442325\n",
            " 0.05248217 0.05345271 0.05197263 0.05706799 0.05811132 0.0595914\n",
            " 0.05913039 0.05794148 0.06107148 0.06621536 0.0672587  0.06587567\n",
            " 0.06808366 0.06708885 0.07152909 0.07550832 0.07715825 0.07475615\n",
            " 0.07463483 0.07800747 0.08133159 0.08237492 0.08552919 0.09079439\n",
            " 0.09920173 0.09445819 0.09729703 0.10569224 0.10040278 0.11027806\n",
            " 0.11304411 0.11115155 0.09972339 0.09901975 0.10404232 0.10502499\n",
            " 0.10894356 0.11069054 0.11275295 0.10229534 0.10199204 0.101252\n",
            " 0.10605619 0.1047217  0.10826418 0.10756054 0.10603193 0.10566798\n",
            " 0.1062503  0.10530402 0.10564371 0.11238899 0.11133353 0.11544621\n",
            " 0.11440287 0.10282914 0.10867666 0.1107876  0.11355365 0.11442714\n",
            " 0.11088465 0.10877372 0.11413989 0.11433079 0.11476927 0.11541539\n",
            " 0.1161918  0.11703259 0.11789523 0.118757   0.11960761 0.12044334\n",
            " 0.12126332 0.12206799 0.12285836 0.12363581 0.12440193 0.12515865\n",
            " 0.12590794 0.1266516  0.12739143 0.1281289  0.12886515 0.12960097\n",
            " 0.13033693 0.13107319 0.13180979 0.13254647]\n",
            "26 day output [[0.1332829]]\n",
            "27 day input [0.05864512 0.05801427 0.04976464 0.05478721 0.06107148 0.05667977\n",
            " 0.06107148 0.05897268 0.0577231  0.05561217 0.05442325 0.05248217\n",
            " 0.05345271 0.05197263 0.05706799 0.05811132 0.0595914  0.05913039\n",
            " 0.05794148 0.06107148 0.06621536 0.0672587  0.06587567 0.06808366\n",
            " 0.06708885 0.07152909 0.07550832 0.07715825 0.07475615 0.07463483\n",
            " 0.07800747 0.08133159 0.08237492 0.08552919 0.09079439 0.09920173\n",
            " 0.09445819 0.09729703 0.10569224 0.10040278 0.11027806 0.11304411\n",
            " 0.11115155 0.09972339 0.09901975 0.10404232 0.10502499 0.10894356\n",
            " 0.11069054 0.11275295 0.10229534 0.10199204 0.101252   0.10605619\n",
            " 0.1047217  0.10826418 0.10756054 0.10603193 0.10566798 0.1062503\n",
            " 0.10530402 0.10564371 0.11238899 0.11133353 0.11544621 0.11440287\n",
            " 0.10282914 0.10867666 0.1107876  0.11355365 0.11442714 0.11088465\n",
            " 0.10877372 0.11413989 0.11433079 0.11476927 0.11541539 0.1161918\n",
            " 0.11703259 0.11789523 0.118757   0.11960761 0.12044334 0.12126332\n",
            " 0.12206799 0.12285836 0.12363581 0.12440193 0.12515865 0.12590794\n",
            " 0.1266516  0.12739143 0.1281289  0.12886515 0.12960097 0.13033693\n",
            " 0.13107319 0.13180979 0.13254647 0.1332829 ]\n",
            "27 day output [[0.13401863]]\n",
            "28 day input [0.05801427 0.04976464 0.05478721 0.06107148 0.05667977 0.06107148\n",
            " 0.05897268 0.0577231  0.05561217 0.05442325 0.05248217 0.05345271\n",
            " 0.05197263 0.05706799 0.05811132 0.0595914  0.05913039 0.05794148\n",
            " 0.06107148 0.06621536 0.0672587  0.06587567 0.06808366 0.06708885\n",
            " 0.07152909 0.07550832 0.07715825 0.07475615 0.07463483 0.07800747\n",
            " 0.08133159 0.08237492 0.08552919 0.09079439 0.09920173 0.09445819\n",
            " 0.09729703 0.10569224 0.10040278 0.11027806 0.11304411 0.11115155\n",
            " 0.09972339 0.09901975 0.10404232 0.10502499 0.10894356 0.11069054\n",
            " 0.11275295 0.10229534 0.10199204 0.101252   0.10605619 0.1047217\n",
            " 0.10826418 0.10756054 0.10603193 0.10566798 0.1062503  0.10530402\n",
            " 0.10564371 0.11238899 0.11133353 0.11544621 0.11440287 0.10282914\n",
            " 0.10867666 0.1107876  0.11355365 0.11442714 0.11088465 0.10877372\n",
            " 0.11413989 0.11433079 0.11476927 0.11541539 0.1161918  0.11703259\n",
            " 0.11789523 0.118757   0.11960761 0.12044334 0.12126332 0.12206799\n",
            " 0.12285836 0.12363581 0.12440193 0.12515865 0.12590794 0.1266516\n",
            " 0.12739143 0.1281289  0.12886515 0.12960097 0.13033693 0.13107319\n",
            " 0.13180979 0.13254647 0.1332829  0.13401863]\n",
            "28 day output [[0.13475321]]\n",
            "29 day input [0.04976464 0.05478721 0.06107148 0.05667977 0.06107148 0.05897268\n",
            " 0.0577231  0.05561217 0.05442325 0.05248217 0.05345271 0.05197263\n",
            " 0.05706799 0.05811132 0.0595914  0.05913039 0.05794148 0.06107148\n",
            " 0.06621536 0.0672587  0.06587567 0.06808366 0.06708885 0.07152909\n",
            " 0.07550832 0.07715825 0.07475615 0.07463483 0.07800747 0.08133159\n",
            " 0.08237492 0.08552919 0.09079439 0.09920173 0.09445819 0.09729703\n",
            " 0.10569224 0.10040278 0.11027806 0.11304411 0.11115155 0.09972339\n",
            " 0.09901975 0.10404232 0.10502499 0.10894356 0.11069054 0.11275295\n",
            " 0.10229534 0.10199204 0.101252   0.10605619 0.1047217  0.10826418\n",
            " 0.10756054 0.10603193 0.10566798 0.1062503  0.10530402 0.10564371\n",
            " 0.11238899 0.11133353 0.11544621 0.11440287 0.10282914 0.10867666\n",
            " 0.1107876  0.11355365 0.11442714 0.11088465 0.10877372 0.11413989\n",
            " 0.11433079 0.11476927 0.11541539 0.1161918  0.11703259 0.11789523\n",
            " 0.118757   0.11960761 0.12044334 0.12126332 0.12206799 0.12285836\n",
            " 0.12363581 0.12440193 0.12515865 0.12590794 0.1266516  0.12739143\n",
            " 0.1281289  0.12886515 0.12960097 0.13033693 0.13107319 0.13180979\n",
            " 0.13254647 0.1332829  0.13401863 0.13475321]\n",
            "29 day output [[0.13548617]]\n",
            "[[0.11413989216089249], [0.11433079093694687], [0.11476926505565643], [0.11541539430618286], [0.1161918044090271], [0.11703258752822876], [0.1178952306509018], [0.11875700205564499], [0.11960761249065399], [0.12044333666563034], [0.12126331776380539], [0.12206798791885376], [0.12285836040973663], [0.12363580614328384], [0.12440193444490433], [0.1251586526632309], [0.12590794265270233], [0.1266516000032425], [0.12739142775535583], [0.12812890112400055], [0.12886515259742737], [0.12960097193717957], [0.1303369253873825], [0.13107319176197052], [0.1318097859621048], [0.13254646956920624], [0.13328289985656738], [0.13401862978935242], [0.13475321233272552], [0.1354861706495285]]\n"
          ],
          "name": "stdout"
        }
      ]
    },
    {
      "cell_type": "code",
      "metadata": {
        "id": "d7KNU3HyY33p"
      },
      "source": [
        "day_new=np.arange(1,101)\n",
        "day_pred=np.arange(101,131)"
      ],
      "execution_count": 78,
      "outputs": []
    },
    {
      "cell_type": "code",
      "metadata": {
        "id": "3GJdpv0GY33p"
      },
      "source": [
        "import matplotlib.pyplot as plt"
      ],
      "execution_count": 79,
      "outputs": []
    },
    {
      "cell_type": "code",
      "metadata": {
        "id": "X-vWtrw0Y33q",
        "colab": {
          "base_uri": "https://localhost:8080/"
        },
        "outputId": "d5e21fdd-bedd-4be6-c8ec-1d4cfd21f2a2"
      },
      "source": [
        "len(df1)"
      ],
      "execution_count": 80,
      "outputs": [
        {
          "output_type": "execute_result",
          "data": {
            "text/plain": [
              "1258"
            ]
          },
          "metadata": {},
          "execution_count": 80
        }
      ]
    },
    {
      "cell_type": "code",
      "metadata": {
        "colab": {
          "base_uri": "https://localhost:8080/"
        },
        "id": "gjVF2K3cUWEm",
        "outputId": "e33ddb81-c0aa-4fe2-ba01-2981b1d53066"
      },
      "source": [
        "x_input.shape\n",
        "yhat.shape"
      ],
      "execution_count": 81,
      "outputs": [
        {
          "output_type": "execute_result",
          "data": {
            "text/plain": [
              "(1, 1)"
            ]
          },
          "metadata": {},
          "execution_count": 81
        }
      ]
    },
    {
      "cell_type": "code",
      "metadata": {
        "id": "bT104B8fY33q",
        "colab": {
          "base_uri": "https://localhost:8080/",
          "height": 285
        },
        "outputId": "260b6961-1c9f-409c-a631-30ce3f5bd948"
      },
      "source": [
        "plt.plot(day_new,scaler.inverse_transform(df1[1158:]))\n",
        "plt.plot(day_pred,scaler.inverse_transform(lst_output))"
      ],
      "execution_count": 83,
      "outputs": [
        {
          "output_type": "execute_result",
          "data": {
            "text/plain": [
              "[<matplotlib.lines.Line2D at 0x7fe5b7f3eed0>]"
            ]
          },
          "metadata": {},
          "execution_count": 83
        },
        {
          "output_type": "display_data",
          "data": {
            "image/png": "[encoded data removed]",
            "text/plain": [
              "<Figure size 432x288 with 1 Axes>"
            ]
          },
          "metadata": {
            "needs_background": "light"
          }
        }
      ]
    },
    {
      "cell_type": "code",
      "metadata": {
        "id": "O33-kgQjY33q",
        "colab": {
          "base_uri": "https://localhost:8080/",
          "height": 282
        },
        "outputId": "ad1e1c2a-98ca-4e68-98b0-d284d5b7dfa4"
      },
      "source": [
        "df3=df1.tolist()\n",
        "df3.extend(lst_output)\n",
        "plt.plot(df3[1200:])"
      ],
      "execution_count": 84,
      "outputs": [
        {
          "output_type": "execute_result",
          "data": {
            "text/plain": [
              "[<matplotlib.lines.Line2D at 0x7fe5b7e91bd0>]"
            ]
          },
          "metadata": {},
          "execution_count": 84
        },
        {
          "output_type": "display_data",
          "data": {
            "image/png": "[encoded data removed]",
            "text/plain": [
              "<Figure size 432x288 with 1 Axes>"
            ]
          },
          "metadata": {
            "needs_background": "light"
          }
        }
      ]
    },
    {
      "cell_type": "code",
      "metadata": {
        "id": "5iB7kwsDY33q"
      },
      "source": [
        "df3=scaler.inverse_transform(df3).tolist()"
      ],
      "execution_count": 85,
      "outputs": []
    },
    {
      "cell_type": "code",
      "metadata": {
        "id": "qK6XxYnxY33q",
        "colab": {
          "base_uri": "https://localhost:8080/",
          "height": 282
        },
        "outputId": "b4a29db6-ba0e-4c25-ceee-77558504e5d4"
      },
      "source": [
        "plt.plot(df3)"
      ],
      "execution_count": 86,
      "outputs": [
        {
          "output_type": "execute_result",
          "data": {
            "text/plain": [
              "[<matplotlib.lines.Line2D at 0x7fe5b7ed5090>]"
            ]
          },
          "metadata": {},
          "execution_count": 86
        },
        {
          "output_type": "display_data",
          "data": {
            "image/png": "[encoded data removed]",
            "text/plain": [
              "<Figure size 432x288 with 1 Axes>"
            ]
          },
          "metadata": {
            "needs_background": "light"
          }
        }
      ]
    }
  ]
}